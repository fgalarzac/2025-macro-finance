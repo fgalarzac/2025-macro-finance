{
 "cells": [
  {
   "cell_type": "markdown",
   "metadata": {
    "id": "3Lu9TkmmI3Yw"
   },
   "source": [
    "# Clase 1: Variables, tipos de datos, operadores y expresiones"
   ]
  },
  {
   "cell_type": "markdown",
   "metadata": {
    "id": "Hfcny2gCI3Yy"
   },
   "source": [
    "- [1. Variables](#variables)\n",
    "    - [Nombres de las variables](#name_vars)\n",
    "    - [Asignando múltiples valores](#multivals)\n",
    "- [2. Tipos de datos](#tipos-de-datos)\n",
    "    - [Números](#numbers)  \n",
    "    - [Strings](#strings)  \n",
    "    - [Trabajando con strings](#metodosstrings)\n",
    "    - [Booleanos](#boleans)\n",
    "    - [Convirtiendo a otro tipo](#casting)\n",
    "- [3. Operadores](#operadores)\n",
    "    - [Aritméticos](#aritmeticos)\n",
    "    - [Comparación](#comparacion)\n",
    "    - [Lógicos](#logicos)\n",
    "    - [Identidad](#identidad)\n",
    "    - [Asignación aumentada](#asignacion)\n",
    "    - [Membresía](#membresia)\n",
    "- [4. Delimitadores](#delimitadores)\n",
    "- [5. Keywords](#claves)"
   ]
  },
  {
   "cell_type": "markdown",
   "metadata": {
    "id": "JXZo_OKDI3Yz"
   },
   "source": [
    "<a class=\"anchor\" id=\"variables\"></a>\n",
    "## 1. Variables"
   ]
  },
  {
   "cell_type": "markdown",
   "metadata": {
    "id": "0_9HnvbrI3Y0"
   },
   "source": [
    "Las variables son todo aquello que definiremos con un nombre, y a lo que nos referiremos después si queremos usarlo. Las variables pueden ser datos, texto, números, pero también cosas más complicadas como funciones, o incluso otros programas.\n",
    "\n",
    "Las variables son, también, un nombre simbólico que representa la ubicación en la memoria de una computadora."
   ]
  },
  {
   "cell_type": "markdown",
   "metadata": {
    "id": "a1HkBlPcI3Y0"
   },
   "source": [
    "Se utiliza el operador ```=``` para asignarle el valor a la variable."
   ]
  },
  {
   "cell_type": "code",
   "execution_count": 1,
   "metadata": {
    "colab": {
     "base_uri": "https://localhost:8080/",
     "height": 36
    },
    "executionInfo": {
     "elapsed": 385,
     "status": "ok",
     "timestamp": 1726101598146,
     "user": {
      "displayName": "Pilar Vanessa Hidalgo León",
      "userId": "05847007721632761533"
     },
     "user_tz": 300
    },
    "id": "UoOQmFNsI3Y0",
    "outputId": "4c394e79-fce1-4dfd-d79d-a42dfcd98c80"
   },
   "outputs": [
    {
     "data": {
      "text/plain": [
       "'Feliz 2025!'"
      ]
     },
     "execution_count": 1,
     "metadata": {},
     "output_type": "execute_result"
    }
   ],
   "source": [
    "bienvenida = \"Feliz 2025!\"\n",
    "bienvenida"
   ]
  },
  {
   "cell_type": "code",
   "execution_count": 2,
   "metadata": {
    "colab": {
     "base_uri": "https://localhost:8080/"
    },
    "executionInfo": {
     "elapsed": 344,
     "status": "ok",
     "timestamp": 1726101683313,
     "user": {
      "displayName": "Pilar Vanessa Hidalgo León",
      "userId": "05847007721632761533"
     },
     "user_tz": 300
    },
    "id": "2UoDlof9I3Y7",
    "outputId": "ac031502-97e0-471d-d754-a60ab0904b96"
   },
   "outputs": [
    {
     "name": "stdout",
     "output_type": "stream",
     "text": [
      "Feliz 2025!\n"
     ]
    }
   ],
   "source": [
    "print(bienvenida)"
   ]
  },
  {
   "cell_type": "code",
   "execution_count": 7,
   "metadata": {
    "colab": {
     "base_uri": "https://localhost:8080/"
    },
    "executionInfo": {
     "elapsed": 323,
     "status": "ok",
     "timestamp": 1726101697357,
     "user": {
      "displayName": "Pilar Vanessa Hidalgo León",
      "userId": "05847007721632761533"
     },
     "user_tz": 300
    },
    "id": "wok1IvsDI3ZA",
    "outputId": "19083589-c3b3-4132-c958-4ac2f096786e"
   },
   "outputs": [
    {
     "name": "stdout",
     "output_type": "stream",
     "text": [
      "6\n"
     ]
    }
   ],
   "source": [
    "operacion = 1 + 2 + 3\n",
    "print(operacion)"
   ]
  },
  {
   "cell_type": "code",
   "execution_count": 4,
   "metadata": {
    "colab": {
     "base_uri": "https://localhost:8080/"
    },
    "executionInfo": {
     "elapsed": 371,
     "status": "ok",
     "timestamp": 1725321507058,
     "user": {
      "displayName": "Pilar Vanessa Hidalgo León",
      "userId": "05847007721632761533"
     },
     "user_tz": 300
    },
    "id": "sns3KzSPK8UC",
    "outputId": "5a094998-e536-4f14-9f22-8cf64c81adb8"
   },
   "outputs": [
    {
     "name": "stdout",
     "output_type": "stream",
     "text": [
      "Feliz 2025!\n",
      "6\n"
     ]
    }
   ],
   "source": [
    "print(bienvenida)\n",
    "print(operacion)"
   ]
  },
  {
   "cell_type": "markdown",
   "metadata": {
    "id": "Zjy1rICPI3ZD"
   },
   "source": [
    "Se puede reasignar el valor de una variable:"
   ]
  },
  {
   "cell_type": "code",
   "execution_count": 8,
   "metadata": {
    "colab": {
     "base_uri": "https://localhost:8080/"
    },
    "executionInfo": {
     "elapsed": 368,
     "status": "ok",
     "timestamp": 1726101742020,
     "user": {
      "displayName": "Pilar Vanessa Hidalgo León",
      "userId": "05847007721632761533"
     },
     "user_tz": 300
    },
    "id": "j83tsLqkI3ZD",
    "outputId": "bb9a900d-b488-47d2-f603-903d35dc5ad9"
   },
   "outputs": [
    {
     "name": "stdout",
     "output_type": "stream",
     "text": [
      "15\n",
      "15\n"
     ]
    }
   ],
   "source": [
    "operacion = 4 + 5 + 6\n",
    "operacion_1= 4 + 5 + 6\n",
    "print(operacion_1)\n",
    "print(operacion)"
   ]
  },
  {
   "cell_type": "code",
   "execution_count": 9,
   "metadata": {
    "colab": {
     "base_uri": "https://localhost:8080/"
    },
    "executionInfo": {
     "elapsed": 330,
     "status": "ok",
     "timestamp": 1726101816162,
     "user": {
      "displayName": "Pilar Vanessa Hidalgo León",
      "userId": "05847007721632761533"
     },
     "user_tz": 300
    },
    "id": "I28bTrxWKhWO",
    "outputId": "45342f02-de1f-41ff-fde3-69f8ee26d400"
   },
   "outputs": [
    {
     "data": {
      "text/plain": [
       "int"
      ]
     },
     "execution_count": 9,
     "metadata": {},
     "output_type": "execute_result"
    }
   ],
   "source": [
    "type(operacion_1)"
   ]
  },
  {
   "cell_type": "code",
   "execution_count": 10,
   "metadata": {
    "id": "HxAZfGniLZcc"
   },
   "outputs": [
    {
     "ename": "NameError",
     "evalue": "name 'operacion_2' is not defined",
     "output_type": "error",
     "traceback": [
      "\u001b[0;31m---------------------------------------------------------------------------\u001b[0m",
      "\u001b[0;31mNameError\u001b[0m                                 Traceback (most recent call last)",
      "Cell \u001b[0;32mIn[10], line 1\u001b[0m\n\u001b[0;32m----> 1\u001b[0m \u001b[43moperacion_2\u001b[49m\n",
      "\u001b[0;31mNameError\u001b[0m: name 'operacion_2' is not defined"
     ]
    }
   ],
   "source": [
    "operacion_2"
   ]
  },
  {
   "cell_type": "markdown",
   "metadata": {
    "id": "nLMdUBcPI3ZI"
   },
   "source": [
    "<a class=\"anchor\" id=\"name_vars\"></a>\n",
    "\n",
    "### Nombres de las variables:\n",
    "- El nombre de una variable debe comenzar con una letra o un _ (no puede comenzar con un número).   \n"
   ]
  },
  {
   "cell_type": "code",
   "execution_count": 11,
   "metadata": {
    "id": "xeYAGTUbI3ZK"
   },
   "outputs": [
    {
     "ename": "SyntaxError",
     "evalue": "invalid decimal literal (658013347.py, line 1)",
     "output_type": "error",
     "traceback": [
      "\u001b[0;36m  Cell \u001b[0;32mIn[11], line 1\u001b[0;36m\u001b[0m\n\u001b[0;31m    09_var = 'da error'\u001b[0m\n\u001b[0m      ^\u001b[0m\n\u001b[0;31mSyntaxError\u001b[0m\u001b[0;31m:\u001b[0m invalid decimal literal\n"
     ]
    }
   ],
   "source": [
    "09_var = 'da error'"
   ]
  },
  {
   "cell_type": "markdown",
   "metadata": {
    "id": "8__dmBVWI3ZL"
   },
   "source": [
    "- El nombre de una variable solo puede contener caracteres alfanuméricos y guiones bajos (A-z, 0-9 y _).  \n"
   ]
  },
  {
   "cell_type": "code",
   "execution_count": 12,
   "metadata": {
    "id": "CgPnQwVnI3ZL"
   },
   "outputs": [
    {
     "ename": "SyntaxError",
     "evalue": "invalid syntax (3789194209.py, line 1)",
     "output_type": "error",
     "traceback": [
      "\u001b[0;36m  Cell \u001b[0;32mIn[12], line 1\u001b[0;36m\u001b[0m\n\u001b[0;31m    $$%^^ = \"otro error\"\u001b[0m\n\u001b[0m    ^\u001b[0m\n\u001b[0;31mSyntaxError\u001b[0m\u001b[0;31m:\u001b[0m invalid syntax\n"
     ]
    }
   ],
   "source": [
    "$$%^^ = \"otro error\""
   ]
  },
  {
   "cell_type": "markdown",
   "metadata": {
    "id": "SrfmqEOwI3ZL"
   },
   "source": [
    "- Los nombres de las variables distinguen entre mayúsculas y minúsculas (edad, Edad y EDAD son tres variables diferentes).  \n"
   ]
  },
  {
   "cell_type": "code",
<<<<<<< HEAD
   "execution_count": 6,
=======
   "execution_count": 13,
>>>>>>> 817712728e680bad872ae373069e420b22fa6ba3
   "metadata": {
    "colab": {
     "base_uri": "https://localhost:8080/"
    },
    "executionInfo": {
     "elapsed": 401,
     "status": "ok",
     "timestamp": 1726101857135,
     "user": {
      "displayName": "Pilar Vanessa Hidalgo León",
      "userId": "05847007721632761533"
     },
     "user_tz": 300
    },
    "id": "kh7awXLmI3ZL",
    "outputId": "51dd0500-6939-4137-de67-f0b6107427fd"
   },
   "outputs": [
    {
     "name": "stdout",
     "output_type": "stream",
     "text": [
      "72\n"
     ]
    }
   ],
   "source": [
    "edad = 12\n",
    "EDAD = 24\n",
    "Edad = 36\n",
    "print(edad + Edad + EDAD)"
   ]
  },
  {
   "cell_type": "code",
<<<<<<< HEAD
   "execution_count": 7,
=======
   "execution_count": 15,
>>>>>>> 817712728e680bad872ae373069e420b22fa6ba3
   "metadata": {
    "colab": {
     "base_uri": "https://localhost:8080/"
    },
    "executionInfo": {
     "elapsed": 293,
     "status": "ok",
     "timestamp": 1726101870405,
     "user": {
      "displayName": "Pilar Vanessa Hidalgo León",
      "userId": "05847007721632761533"
     },
     "user_tz": 300
    },
    "id": "cdZvUVKLsAiU",
    "outputId": "992ca4e6-c4ff-466a-f2bb-fa039258ee66"
   },
   "outputs": [
    {
     "data": {
      "text/plain": [
       "24"
      ]
     },
<<<<<<< HEAD
     "execution_count": 7,
=======
     "execution_count": 15,
>>>>>>> 817712728e680bad872ae373069e420b22fa6ba3
     "metadata": {},
     "output_type": "execute_result"
    }
   ],
   "source": [
    "EDAD"
   ]
  },
  {
   "cell_type": "markdown",
   "metadata": {
    "id": "Tt2hsB8_I3ZM"
   },
   "source": [
    "- Un nombre de variable no puede ser ninguna de las palabras clave de Python.\n",
    "\n",
    "OJO: Python tiene palabras reservadas. No llamar a una variable como un tipo de dato _int_, _str_, _float_. Estos son ejemplos de palabras reservadas en Python que no se deben utilizar como nombres."
   ]
  },
  {
   "cell_type": "code",
<<<<<<< HEAD
   "execution_count": 8,
=======
   "execution_count": 16,
>>>>>>> 817712728e680bad872ae373069e420b22fa6ba3
   "metadata": {
    "colab": {
     "base_uri": "https://localhost:8080/"
    },
    "executionInfo": {
     "elapsed": 317,
     "status": "ok",
     "timestamp": 1725322835288,
     "user": {
      "displayName": "Pilar Vanessa Hidalgo León",
      "userId": "05847007721632761533"
     },
     "user_tz": 300
    },
    "id": "1w62hpp1I3ZM",
    "outputId": "ec204b03-3677-4cab-ad9d-494efc1db56d"
   },
   "outputs": [
    {
     "name": "stdout",
     "output_type": "stream",
     "text": [
      "['False', 'None', 'True', 'and', 'as', 'assert', 'async', 'await', 'break', 'class', 'continue', 'def', 'del', 'elif', 'else', 'except', 'finally', 'for', 'from', 'global', 'if', 'import', 'in', 'is', 'lambda', 'nonlocal', 'not', 'or', 'pass', 'raise', 'return', 'try', 'while', 'with', 'yield']\n"
     ]
    }
   ],
   "source": [
    "import keyword\n",
    "print(keyword.kwlist) "
   ]
  },
  {
   "cell_type": "code",
   "execution_count": 17,
   "metadata": {
    "colab": {
     "base_uri": "https://localhost:8080/",
     "height": 35
    },
    "executionInfo": {
     "elapsed": 396,
     "status": "ok",
     "timestamp": 1725323171714,
     "user": {
      "displayName": "Pilar Vanessa Hidalgo León",
      "userId": "05847007721632761533"
     },
     "user_tz": 300
    },
    "id": "W2ZF9WF9Rbis",
    "outputId": "40acd300-d4de-45e0-ba92-81cdcb7ba8f1"
   },
   "outputs": [
    {
     "data": {
      "text/plain": [
       "'True'"
      ]
     },
     "execution_count": 17,
     "metadata": {},
     "output_type": "execute_result"
    }
   ],
   "source": [
    "dr=keyword.kwlist[2]\n",
    "dr"
   ]
  },
  {
   "cell_type": "code",
   "execution_count": 18,
   "metadata": {
    "colab": {
     "base_uri": "https://localhost:8080/"
    },
    "executionInfo": {
     "elapsed": 367,
     "status": "ok",
     "timestamp": 1725323184907,
     "user": {
      "displayName": "Pilar Vanessa Hidalgo León",
      "userId": "05847007721632761533"
     },
     "user_tz": 300
    },
    "id": "re2O1GmdRmue",
    "outputId": "59935b0d-b6a9-4f61-c82c-cb0520da145a"
   },
   "outputs": [
    {
     "name": "stdout",
     "output_type": "stream",
     "text": [
      "True\n"
     ]
    }
   ],
   "source": [
    "print(dr)"
   ]
  },
  {
   "cell_type": "code",
   "execution_count": 19,
   "metadata": {
    "colab": {
     "base_uri": "https://localhost:8080/"
    },
    "executionInfo": {
     "elapsed": 337,
     "status": "ok",
     "timestamp": 1725322907709,
     "user": {
      "displayName": "Pilar Vanessa Hidalgo León",
      "userId": "05847007721632761533"
     },
     "user_tz": 300
    },
    "id": "gdo-xZllI3ZN",
    "outputId": "9bdb00f7-74a8-4c0f-a266-6f7803d85017"
   },
   "outputs": [
    {
     "data": {
      "text/plain": [
       "['ArithmeticError',\n",
       " 'AssertionError',\n",
       " 'AttributeError',\n",
       " 'BaseException',\n",
       " 'BaseExceptionGroup',\n",
       " 'BlockingIOError',\n",
       " 'BrokenPipeError',\n",
       " 'BufferError',\n",
       " 'BytesWarning',\n",
       " 'ChildProcessError',\n",
       " 'ConnectionAbortedError',\n",
       " 'ConnectionError',\n",
       " 'ConnectionRefusedError',\n",
       " 'ConnectionResetError',\n",
       " 'DeprecationWarning',\n",
       " 'EOFError',\n",
       " 'Ellipsis',\n",
       " 'EncodingWarning',\n",
       " 'EnvironmentError',\n",
       " 'Exception',\n",
       " 'ExceptionGroup',\n",
       " 'False',\n",
       " 'FileExistsError',\n",
       " 'FileNotFoundError',\n",
       " 'FloatingPointError',\n",
       " 'FutureWarning',\n",
       " 'GeneratorExit',\n",
       " 'IOError',\n",
       " 'ImportError',\n",
       " 'ImportWarning',\n",
       " 'IndentationError',\n",
       " 'IndexError',\n",
       " 'InterruptedError',\n",
       " 'IsADirectoryError',\n",
       " 'KeyError',\n",
       " 'KeyboardInterrupt',\n",
       " 'LookupError',\n",
       " 'MemoryError',\n",
       " 'ModuleNotFoundError',\n",
       " 'NameError',\n",
       " 'None',\n",
       " 'NotADirectoryError',\n",
       " 'NotImplemented',\n",
       " 'NotImplementedError',\n",
       " 'OSError',\n",
       " 'OverflowError',\n",
       " 'PendingDeprecationWarning',\n",
       " 'PermissionError',\n",
       " 'ProcessLookupError',\n",
       " 'RecursionError',\n",
       " 'ReferenceError',\n",
       " 'ResourceWarning',\n",
       " 'RuntimeError',\n",
       " 'RuntimeWarning',\n",
       " 'StopAsyncIteration',\n",
       " 'StopIteration',\n",
       " 'SyntaxError',\n",
       " 'SyntaxWarning',\n",
       " 'SystemError',\n",
       " 'SystemExit',\n",
       " 'TabError',\n",
       " 'TimeoutError',\n",
       " 'True',\n",
       " 'TypeError',\n",
       " 'UnboundLocalError',\n",
       " 'UnicodeDecodeError',\n",
       " 'UnicodeEncodeError',\n",
       " 'UnicodeError',\n",
       " 'UnicodeTranslateError',\n",
       " 'UnicodeWarning',\n",
       " 'UserWarning',\n",
       " 'ValueError',\n",
       " 'Warning',\n",
       " 'ZeroDivisionError',\n",
       " '__IPYTHON__',\n",
       " '__build_class__',\n",
       " '__debug__',\n",
       " '__doc__',\n",
       " '__import__',\n",
       " '__loader__',\n",
       " '__name__',\n",
       " '__package__',\n",
       " '__spec__',\n",
       " 'abs',\n",
       " 'aiter',\n",
       " 'all',\n",
       " 'anext',\n",
       " 'any',\n",
       " 'ascii',\n",
       " 'bin',\n",
       " 'bool',\n",
       " 'breakpoint',\n",
       " 'bytearray',\n",
       " 'bytes',\n",
       " 'callable',\n",
       " 'chr',\n",
       " 'classmethod',\n",
       " 'compile',\n",
       " 'complex',\n",
       " 'copyright',\n",
       " 'credits',\n",
       " 'delattr',\n",
       " 'dict',\n",
       " 'dir',\n",
       " 'display',\n",
       " 'divmod',\n",
       " 'enumerate',\n",
       " 'eval',\n",
       " 'exec',\n",
       " 'execfile',\n",
       " 'filter',\n",
       " 'float',\n",
       " 'format',\n",
       " 'frozenset',\n",
       " 'get_ipython',\n",
       " 'getattr',\n",
       " 'globals',\n",
       " 'hasattr',\n",
       " 'hash',\n",
       " 'help',\n",
       " 'hex',\n",
       " 'id',\n",
       " 'input',\n",
       " 'int',\n",
       " 'isinstance',\n",
       " 'issubclass',\n",
       " 'iter',\n",
       " 'len',\n",
       " 'license',\n",
       " 'list',\n",
       " 'locals',\n",
       " 'map',\n",
       " 'max',\n",
       " 'memoryview',\n",
       " 'min',\n",
       " 'next',\n",
       " 'object',\n",
       " 'oct',\n",
       " 'open',\n",
       " 'ord',\n",
       " 'pow',\n",
       " 'print',\n",
       " 'property',\n",
       " 'range',\n",
       " 'repr',\n",
       " 'reversed',\n",
       " 'round',\n",
       " 'runfile',\n",
       " 'set',\n",
       " 'setattr',\n",
       " 'slice',\n",
       " 'sorted',\n",
       " 'staticmethod',\n",
       " 'str',\n",
       " 'sum',\n",
       " 'super',\n",
       " 'tuple',\n",
       " 'type',\n",
       " 'vars',\n",
       " 'zip']"
      ]
     },
     "execution_count": 19,
     "metadata": {},
     "output_type": "execute_result"
    }
   ],
   "source": [
    "import builtins\n",
    "dir(builtins)"
   ]
  },
  {
   "cell_type": "markdown",
   "metadata": {
    "id": "l_qJnMPZI3ZN"
   },
   "source": [
    "Hay convenciones para nombrar variables en Python. \n",
    "\n",
    "- Snake case, o el _minusculas_con_guion_bajo_ (este es el default para nombrar variables en Python)   \n",
    "`mi_variable_nueva = \"INEI\"`\n",
    "\n",
    "- CamelCase, que es primera letra mayúscula (excepto primera) y sin espacios.  \n",
    "`miVariableNueva = \"INEI\"`\n",
    "\n",
    "- PascalCase  \n",
    "`MiVariableNueva = \"INEI\"`\n"
   ]
  },
  {
   "cell_type": "markdown",
   "metadata": {
    "id": "oGCaR-PMI3ZN"
   },
   "source": [
    "<a class=\"anchor\" id=\"multivals\"></a>\n",
    "\n",
    "### Asignando múltiples valores:"
   ]
  },
  {
   "cell_type": "code",
   "execution_count": 20,
   "metadata": {
    "colab": {
     "base_uri": "https://localhost:8080/"
    },
    "executionInfo": {
     "elapsed": 341,
     "status": "ok",
     "timestamp": 1726102058254,
     "user": {
      "displayName": "Pilar Vanessa Hidalgo León",
      "userId": "05847007721632761533"
     },
     "user_tz": 300
    },
    "id": "xXke9FmyQuEG",
    "outputId": "c8cca87b-6a06-4481-8298-e91ec0ebaac0"
   },
   "outputs": [
    {
     "name": "stdout",
     "output_type": "stream",
     "text": [
      "Naranja\n",
      "Uva\n",
      "Arándano\n"
     ]
    }
   ],
   "source": [
    "x=\"Naranja\"\n",
    "y=\"Uva\"\n",
    "z=\"Arándano\"\n",
    "\n",
    "print(x)\n",
    "print(y)\n",
    "print(z)"
   ]
  },
  {
   "cell_type": "code",
   "execution_count": 21,
   "metadata": {
    "colab": {
     "base_uri": "https://localhost:8080/"
    },
    "executionInfo": {
     "elapsed": 340,
     "status": "ok",
     "timestamp": 1725323282799,
     "user": {
      "displayName": "Pilar Vanessa Hidalgo León",
      "userId": "05847007721632761533"
     },
     "user_tz": 300
    },
    "id": "HYBohcX1Q7nk",
    "outputId": "4deafec5-8943-4b34-89a2-53fdc54696b5"
   },
   "outputs": [
    {
     "name": "stdout",
     "output_type": "stream",
     "text": [
      "Perro\n",
      "Gato\n",
      "Ardilla\n"
     ]
    }
   ],
   "source": [
    "x, y, z = \"Perro\", \"Gato\", \"Ardilla\"\n",
    "print(x)\n",
    "print(y)\n",
    "print(z)"
   ]
  },
  {
   "cell_type": "code",
   "execution_count": 22,
   "metadata": {
    "colab": {
     "base_uri": "https://localhost:8080/"
    },
    "executionInfo": {
     "elapsed": 517,
     "status": "ok",
     "timestamp": 1725323020334,
     "user": {
      "displayName": "Pilar Vanessa Hidalgo León",
      "userId": "05847007721632761533"
     },
     "user_tz": 300
    },
    "id": "5JhnavEEI3ZN",
    "outputId": "a3c6de99-cbb4-40b6-8b63-7a9eb318836b"
   },
   "outputs": [
    {
     "name": "stdout",
     "output_type": "stream",
     "text": [
      "Facebook\n",
      "Facebook\n",
      "Facebook\n"
     ]
    }
   ],
   "source": [
    "a = b = c = \"Facebook\"\n",
    "print(a)\n",
    "print(b)\n",
    "print(c)"
   ]
  },
  {
   "cell_type": "markdown",
   "metadata": {
    "id": "TW_kX_LGI3ZN"
   },
   "source": [
    "#### Ejercicios\n",
    "\n",
    "- Asigna el valor entero 10 a una variable denominada tareas. Imprima el valor de esta variable.\n",
    "\n",
    "- Define tres variables: una con un nombre válido, otra con un nombre que comience con un número y otra que utilice una palabra reservada de Python. Identifique cuáles son incorrectas y explique por qué.\n",
    "\n",
    "- Asigne simultáneamente los valores 'perro', 'gato' y 'hámster' a las variables a, b y c, respectivamente. Imprime los valores de a, b y c.\n",
    "\n",
    "- Arregle los siguientes nombres de variables: `hola!`, `9grados`, `list`, `import`, `$dinero`, `Nombre Completo`."
   ]
  },
  {
   "cell_type": "code",
<<<<<<< HEAD
   "execution_count": 12,
=======
   "execution_count": 28,
>>>>>>> 817712728e680bad872ae373069e420b22fa6ba3
   "metadata": {},
   "outputs": [
    {
     "name": "stdout",
     "output_type": "stream",
     "text": [
      "10\n",
      "<class 'int'>\n"
     ]
    }
   ],
   "source": [
    "tareas = 10\n",
    "print(tareas)\n",
<<<<<<< HEAD
    "print(type(tareas))"
=======
    "# print(type(tareas))"
>>>>>>> 817712728e680bad872ae373069e420b22fa6ba3
   ]
  },
  {
   "cell_type": "code",
<<<<<<< HEAD
   "execution_count": 14,
=======
   "execution_count": null,
>>>>>>> 817712728e680bad872ae373069e420b22fa6ba3
   "metadata": {},
   "outputs": [],
   "source": [
    "alpha = 0.5\n",
<<<<<<< HEAD
    "# 0cero = 0\n",
    "# True = -0.5\n"
=======
    "# 0cero = 0   # empieza con número\n",
    "# True = -0.5 # usa palabra reservada en Python"
>>>>>>> 817712728e680bad872ae373069e420b22fa6ba3
   ]
  },
  {
   "cell_type": "code",
<<<<<<< HEAD
   "execution_count": 15,
=======
   "execution_count": 33,
>>>>>>> 817712728e680bad872ae373069e420b22fa6ba3
   "metadata": {},
   "outputs": [
    {
     "name": "stdout",
     "output_type": "stream",
     "text": [
<<<<<<< HEAD
      "perro gato hámster\n"
=======
      "Dog\n",
      "Cat\n",
      "Bird\n"
>>>>>>> 817712728e680bad872ae373069e420b22fa6ba3
     ]
    }
   ],
   "source": [
<<<<<<< HEAD
    "a, b, c = \"perro\", \"gato\", \"hámster\"\n",
    "print(a,b,c)"
=======
    "perro, gato, ave = \"Dog\", \"Cat\", \"Bird\"\n",
    "print(perro)\n",
    "print(gato)\n",
    "print(ave)"
>>>>>>> 817712728e680bad872ae373069e420b22fa6ba3
   ]
  },
  {
   "cell_type": "markdown",
   "metadata": {
    "id": "sDHw1rRSI3ZN"
   },
   "source": [
    "### NameError\n",
    "Es un error común al definir una variable. Ocurre seguido en el contexto del llamado a una variable inexistente."
   ]
  },
  {
   "cell_type": "code",
   "execution_count": 34,
   "metadata": {
    "id": "3tB0ptJZI3ZO"
   },
   "outputs": [],
   "source": [
    "mensaje = \"Thank you for sharing Python with the world\""
   ]
  },
  {
   "cell_type": "code",
   "execution_count": 36,
   "metadata": {
    "colab": {
     "base_uri": "https://localhost:8080/",
     "height": 36
    },
    "executionInfo": {
     "elapsed": 10,
     "status": "ok",
     "timestamp": 1726102433038,
     "user": {
      "displayName": "Pilar Vanessa Hidalgo León",
      "userId": "05847007721632761533"
     },
     "user_tz": 300
    },
    "id": "kzBuxIdhI3ZO",
    "outputId": "5f05f019-8e45-4d8d-ef73-53841a992c44"
   },
   "outputs": [
    {
     "data": {
      "text/plain": [
       "'Thank you for sharing Python with the world'"
      ]
     },
     "execution_count": 36,
     "metadata": {},
     "output_type": "execute_result"
    }
   ],
   "source": [
    "mensajes # esto da error"
   ]
  },
  {
   "cell_type": "markdown",
   "metadata": {
    "id": "pnDLT-1dI3ZO"
   },
   "source": [
    "[Volver a inicio](#principio)"
   ]
  },
  {
   "cell_type": "markdown",
   "metadata": {
    "id": "LLb0K5dNI3ZO"
   },
   "source": [
    "<a class=\"anchor\" id=\"tipos-de-datos\"></a>\n",
    "\n",
    "## 2. Tipos de datos"
   ]
  },
  {
   "cell_type": "markdown",
   "metadata": {
    "id": "7R4Ah_R5I3ZO"
   },
   "source": [
    "Todas las variables de python son de algún (y único) tipo.\n",
    "El _tipo_ determina los atributos y procedimientos que tiene un objeto.   \n",
    "\n",
    "De los ejemplos anteriores tenemos:"
   ]
  },
  {
   "cell_type": "code",
   "execution_count": 37,
   "metadata": {
    "colab": {
     "base_uri": "https://localhost:8080/"
    },
    "executionInfo": {
     "elapsed": 358,
     "status": "ok",
     "timestamp": 1726102441882,
     "user": {
      "displayName": "Pilar Vanessa Hidalgo León",
      "userId": "05847007721632761533"
     },
     "user_tz": 300
    },
    "id": "by1_AnOoI3ZO",
    "outputId": "2e3fbb61-d580-47df-d98f-f02f12b56326"
   },
   "outputs": [
    {
     "data": {
      "text/plain": [
       "str"
      ]
     },
     "execution_count": 37,
     "metadata": {},
     "output_type": "execute_result"
    }
   ],
   "source": [
    "type(bienvenida)"
   ]
  },
  {
   "cell_type": "code",
   "execution_count": 38,
   "metadata": {
    "colab": {
     "base_uri": "https://localhost:8080/"
    },
    "executionInfo": {
     "elapsed": 4,
     "status": "ok",
     "timestamp": 1726102442218,
     "user": {
      "displayName": "Pilar Vanessa Hidalgo León",
      "userId": "05847007721632761533"
     },
     "user_tz": 300
    },
    "id": "gRKTNIwkI3ZO",
    "outputId": "f914f4c9-bc2a-4b7d-fb6f-a65ab6f932f1"
   },
   "outputs": [
    {
     "data": {
      "text/plain": [
       "int"
      ]
     },
     "execution_count": 38,
     "metadata": {},
     "output_type": "execute_result"
    }
   ],
   "source": [
    "type(operacion)"
   ]
  },
  {
   "cell_type": "markdown",
   "metadata": {
    "id": "_F9GItYQI3ZO"
   },
   "source": [
    "Los tipos más básicos, o llamados *primitivos*, son:\n",
    "- integers\n",
    "- floats\n",
    "- strings  \n",
    "- booleans  \n",
    "  \n",
    "Se llaman primitivos porque los otros tipos de datos los utilizarán para"
   ]
  },
  {
   "cell_type": "markdown",
   "metadata": {
    "id": "dyd3mR_JI3ZO"
   },
   "source": [
    "Más generalmente,  los tipos de datos son:  \n",
    "\n",
    "<table>\n",
    "  <tr>\n",
    "    <th>Tipo</th>\n",
    "    <th>Nombre</th>\n",
    "    <th>Built-in</th>\n",
    "  </tr>\n",
    "  <tr>\n",
    "    <td rowspan=\"1\" style=\"vertical-align: middle;\">Texto</td>\n",
    "    <td>Cadena de texto</td>\n",
    "    <td>str</td>\n",
    "  </tr>\n",
    "  <tr>\n",
    "    <td rowspan=\"2\" style=\"vertical-align: middle;\">Números</td>\n",
    "    <td>Integers</td>\n",
    "    <td>int</td>\n",
    "  </tr>\n",
    "  <tr>\n",
    "    <td>Flotantes</td>\n",
    "    <td>float</td>\n",
    "  </tr>\n",
    "  <tr>\n",
    "    <td rowspan=\"3\" style=\"vertical-align: middle;\">Secuencias</td>\n",
    "    <td>Listas</td>\n",
    "    <td>list</td>\n",
    "  </tr>\n",
    "  <tr>\n",
    "    <td>Tuplas</td>\n",
    "    <td>tuple</td>\n",
    "  </tr>\n",
    "  <tr>\n",
    "    <td>Rango</td>\n",
    "    <td>range</td>\n",
    "  </tr>\n",
    "  <tr>\n",
    "    <td rowspan=\"2\" style=\"vertical-align: middle;\">Conjuntos</td>\n",
    "    <td>Conjuntos</td>\n",
    "    <td>set</td>\n",
    "  </tr>\n",
    "  <tr>\n",
    "    <td>Conjuntos Inmutables</td>\n",
    "    <td>frozenset</td>\n",
    "  </tr>\n",
    "  <tr>\n",
    "    <td style=\"vertical-align: middle;\">Mapeo</td>\n",
    "    <td>Diccionarios</td>\n",
    "    <td>dict</td>\n",
    "  </tr>\n",
    "  <tr>\n",
    "    <td style=\"vertical-align: middle;\">Booleans</td>\n",
    "    <td>Booleanos</td>\n",
    "    <td>bool</td>\n",
    "  </tr>\n",
    "  <tr>\n",
    "    <td rowspan=\"3\" style=\"vertical-align: middle;\">Binarios</td>\n",
    "    <td>Bytes</td>\n",
    "    <td>bytes</td>\n",
    "  </tr>\n",
    "  <tr>\n",
    "    <td>Array de bytes</td>\n",
    "    <td>bytearray</td>\n",
    "  </tr>\n",
    "  <tr>\n",
    "    <td>Memory view</td>\n",
    "    <td>memoryview</td>\n",
    "  </tr>\n",
    "  <tr>\n",
    "    <td style=\"vertical-align: middle;\">None type</td>\n",
    "    <td>Tipo None</td>\n",
    "    <td>None</td>\n",
    "  </tr>\n",
    "</table>\n",
    "\n",
    "Esta clase pondrá énfasis en los más básicos.\n"
   ]
  },
  {
   "cell_type": "markdown",
   "metadata": {
    "id": "AcrdvVd9I3ZP"
   },
   "source": [
    "<a class=\"anchor\" id=\"numbers\"></a>\n",
    "\n",
    "### Números (Integers y floats)"
   ]
  },
  {
   "cell_type": "code",
   "execution_count": 39,
   "metadata": {
    "colab": {
     "base_uri": "https://localhost:8080/"
    },
    "executionInfo": {
     "elapsed": 349,
     "status": "ok",
     "timestamp": 1725323351868,
     "user": {
      "displayName": "Pilar Vanessa Hidalgo León",
      "userId": "05847007721632761533"
     },
     "user_tz": 300
    },
    "id": "av51m6C5I3ZP",
    "outputId": "7ca17be0-b795-4868-b61f-b19de47a41ec"
   },
   "outputs": [
    {
     "data": {
      "text/plain": [
       "int"
      ]
     },
     "execution_count": 39,
     "metadata": {},
     "output_type": "execute_result"
    }
   ],
   "source": [
    "num = 20\n",
    "type(num)"
   ]
  },
  {
   "cell_type": "code",
   "execution_count": 41,
   "metadata": {
    "colab": {
     "base_uri": "https://localhost:8080/"
    },
    "executionInfo": {
     "elapsed": 334,
     "status": "ok",
     "timestamp": 1725323353878,
     "user": {
      "displayName": "Pilar Vanessa Hidalgo León",
      "userId": "05847007721632761533"
     },
     "user_tz": 300
    },
    "id": "E5ZoNLN5I3ZP",
    "outputId": "7e5080e4-c12a-47f3-fa48-c0c8c83ae3b5"
   },
   "outputs": [
    {
     "data": {
      "text/plain": [
       "float"
      ]
     },
     "execution_count": 41,
     "metadata": {},
     "output_type": "execute_result"
    }
   ],
   "source": [
    "num = 20.1\n",
    "type(num)"
   ]
  },
  {
   "cell_type": "markdown",
   "metadata": {
    "id": "_Aaj2-BkI3ZP"
   },
   "source": [
    "Los integers almacenan el número exacto asignado.\n",
    "En cambio, los floats almacenan una aproximación de ese número, llamado _punto flotante_. La diferencia entre ambos es la parte decimal."
   ]
  },
  {
   "cell_type": "code",
   "execution_count": 42,
   "metadata": {
    "colab": {
     "base_uri": "https://localhost:8080/"
    },
    "executionInfo": {
     "elapsed": 368,
     "status": "ok",
     "timestamp": 1725323385912,
     "user": {
      "displayName": "Pilar Vanessa Hidalgo León",
      "userId": "05847007721632761533"
     },
     "user_tz": 300
    },
    "id": "gpfjZXKqI3ZP",
    "outputId": "9b0196a0-74ea-4c29-993e-d729743750a8"
   },
   "outputs": [
    {
     "data": {
      "text/plain": [
       "float"
      ]
     },
     "execution_count": 42,
     "metadata": {},
     "output_type": "execute_result"
    }
   ],
   "source": [
    "num = 20.0\n",
    "type(num)"
   ]
  },
  {
   "cell_type": "code",
   "execution_count": 43,
   "metadata": {
    "colab": {
     "base_uri": "https://localhost:8080/"
    },
    "executionInfo": {
     "elapsed": 319,
     "status": "ok",
     "timestamp": 1725323437242,
     "user": {
      "displayName": "Pilar Vanessa Hidalgo León",
      "userId": "05847007721632761533"
     },
     "user_tz": 300
    },
    "id": "N7rspXMuI3ZP",
    "outputId": "007d8bb7-8566-4ea7-c464-ed6989f4f591"
   },
   "outputs": [
    {
     "name": "stdout",
     "output_type": "stream",
     "text": [
      "0.4\n"
     ]
    }
   ],
   "source": [
    "print(0.2+0.2)"
   ]
  },
  {
   "cell_type": "code",
   "execution_count": 44,
   "metadata": {
    "colab": {
     "base_uri": "https://localhost:8080/"
    },
    "executionInfo": {
     "elapsed": 385,
     "status": "ok",
     "timestamp": 1725323444731,
     "user": {
      "displayName": "Pilar Vanessa Hidalgo León",
      "userId": "05847007721632761533"
     },
     "user_tz": 300
    },
    "id": "xjixgB1UI3ZQ",
    "outputId": "307be65b-73b1-4e84-c638-5171c152d41d"
   },
   "outputs": [
    {
     "name": "stdout",
     "output_type": "stream",
     "text": [
      "0.30000000000000004\n"
     ]
    }
   ],
   "source": [
    "print(0.4-0.1)\n"
   ]
  },
  {
   "cell_type": "markdown",
   "metadata": {
    "id": "KLHBcmnJI3ZQ"
   },
   "source": [
    "Esto sucede por la forma en que las computadoras representan los números internamente, no con Python en sí. Básicamente, estamos acostumbrados a trabajar en potencias de diez, donde una décima más dos décimas son sólo tres décimas. Pero las computadoras funcionan en potencias de dos. Entonces su computadora tiene que representar 0.1 en una potencia de dos, y luego 0.2 como una potencia de dos, y expresar su suma como una potencia de dos. No existe una representación exacta de 0,3 en potencias de dos, y eso lo vemos en la respuesta a 0,4-0,1"
   ]
  },
  {
   "cell_type": "markdown",
   "metadata": {
    "id": "dv7U5dcLI3ZQ"
   },
   "source": [
    "<a class=\"anchor\" id=\"strings\"></a>\n",
    "\n",
    "### Strings"
   ]
  },
  {
   "cell_type": "markdown",
   "metadata": {
    "id": "gywXbJUaI3ZQ"
   },
   "source": [
    "Hay diferentes formas de crear strings, por ejemplo:"
   ]
  },
  {
   "cell_type": "code",
   "execution_count": 45,
   "metadata": {
    "colab": {
     "base_uri": "https://localhost:8080/"
    },
    "executionInfo": {
     "elapsed": 585,
     "status": "ok",
     "timestamp": 1725323468398,
     "user": {
      "displayName": "Pilar Vanessa Hidalgo León",
      "userId": "05847007721632761533"
     },
     "user_tz": 300
    },
    "id": "_X2QqoM8I3ZQ",
    "outputId": "3224d948-0fc0-4731-d0ea-7fac1704bf8b"
   },
   "outputs": [
    {
     "name": "stdout",
     "output_type": "stream",
     "text": [
      "Aquí uso dos apóstrofes\n"
     ]
    }
   ],
   "source": [
    "mensaje = \"Aquí uso dos apóstrofes\"\n",
    "print(mensaje)"
   ]
  },
  {
   "cell_type": "code",
   "execution_count": 46,
   "metadata": {
    "colab": {
     "base_uri": "https://localhost:8080/"
    },
    "executionInfo": {
     "elapsed": 328,
     "status": "ok",
     "timestamp": 1725323472601,
     "user": {
      "displayName": "Pilar Vanessa Hidalgo León",
      "userId": "05847007721632761533"
     },
     "user_tz": 300
    },
    "id": "k_CMjazdI3ZQ",
    "outputId": "44c99622-9056-4f3a-8018-3a022d0a758c"
   },
   "outputs": [
    {
     "name": "stdout",
     "output_type": "stream",
     "text": [
      "Aquí uso un apóstrofe\n"
     ]
    }
   ],
   "source": [
    "mensaje = 'Aquí uso un apóstrofe'\n",
    "print(mensaje)"
   ]
  },
  {
   "cell_type": "code",
<<<<<<< HEAD
   "execution_count": 16,
=======
   "execution_count": 48,
>>>>>>> 817712728e680bad872ae373069e420b22fa6ba3
   "metadata": {
    "id": "9RuQ5eKRuXNm"
   },
   "outputs": [
    {
     "name": "stdout",
     "output_type": "stream",
     "text": [
      "el nombre de la madre de Ana se \"desconoce\"\n"
     ]
    }
   ],
   "source": [
    "mensaje= 'el nombre de la madre de Ana se \"desconoce\"'\n",
    "print(mensaje)"
   ]
  },
  {
   "cell_type": "code",
   "execution_count": 49,
   "metadata": {
    "colab": {
     "base_uri": "https://localhost:8080/"
    },
    "executionInfo": {
     "elapsed": 333,
     "status": "ok",
     "timestamp": 1725323508745,
     "user": {
      "displayName": "Pilar Vanessa Hidalgo León",
      "userId": "05847007721632761533"
     },
     "user_tz": 300
    },
    "id": "o29hAJh-I3ZQ",
    "outputId": "d8a2be08-0a94-481d-a648-1bf5914e3456"
   },
   "outputs": [
    {
     "name": "stdout",
     "output_type": "stream",
     "text": [
      "¿Es un imperio\n",
      "esa luz que se apaga\n",
      "o una luciérnaga?\n"
     ]
    }
   ],
   "source": [
    "haiku = '''¿Es un imperio \n",
    "esa luz que se apaga\n",
    "o una luciérnaga?''' #saltos\n",
    "print(haiku)"
   ]
  },
  {
   "cell_type": "code",
   "execution_count": 50,
   "metadata": {
    "colab": {
     "base_uri": "https://localhost:8080/"
    },
    "executionInfo": {
     "elapsed": 338,
     "status": "ok",
     "timestamp": 1725323513746,
     "user": {
      "displayName": "Pilar Vanessa Hidalgo León",
      "userId": "05847007721632761533"
     },
     "user_tz": 300
    },
    "id": "b5qOPHR-I3ZR",
    "outputId": "e80739f0-6ff3-4cd1-9666-b9aef27c1053"
   },
   "outputs": [
    {
     "name": "stdout",
     "output_type": "stream",
     "text": [
      "Al Fuji subes\n",
      "despacio —pero subes,\n",
      "caracolito.\n"
     ]
    }
   ],
   "source": [
    "haiku = \"\"\"Al Fuji subes\n",
    "despacio —pero subes,\n",
    "caracolito.\"\"\"\n",
    "print(haiku)"
   ]
  },
  {
   "cell_type": "code",
   "execution_count": 51,
   "metadata": {
    "id": "1tb1v6bMI3ZR"
   },
   "outputs": [
    {
     "name": "stdout",
     "output_type": "stream",
     "text": [
      "Alguien alguna vez dijo \"Vive la vida y no dejes que la vida te viva\".\n"
     ]
    }
   ],
   "source": [
    "mantra = 'Alguien alguna vez dijo \"Vive la vida y no dejes que la vida te viva\".'\n",
    "print(mantra)"
   ]
  },
  {
   "cell_type": "markdown",
   "metadata": {
    "id": "htRURmIqI3ZR"
   },
   "source": [
    "<a class=\"anchor\" id=\"metodosstrings\"></a>\n",
    "\n",
    "### Trabajando con strings"
   ]
  },
  {
   "cell_type": "code",
<<<<<<< HEAD
   "execution_count": 18,
=======
   "execution_count": 52,
>>>>>>> 817712728e680bad872ae373069e420b22fa6ba3
   "metadata": {
    "colab": {
     "base_uri": "https://localhost:8080/",
     "height": 36
    },
    "executionInfo": {
     "elapsed": 347,
     "status": "ok",
     "timestamp": 1726102758309,
     "user": {
      "displayName": "Pilar Vanessa Hidalgo León",
      "userId": "05847007721632761533"
     },
     "user_tz": 300
    },
    "id": "kulU28EyI3ZR",
    "outputId": "2edc8bbd-f1d2-49e1-c8ce-89136c303762"
   },
   "outputs": [
    {
     "data": {
      "text/plain": [
       "'juana arias'"
      ]
     },
<<<<<<< HEAD
     "execution_count": 18,
=======
     "execution_count": 52,
>>>>>>> 817712728e680bad872ae373069e420b22fa6ba3
     "metadata": {},
     "output_type": "execute_result"
    }
   ],
   "source": [
    "nombre = \"juana arias\"\n",
    "nombre"
   ]
  },
  {
   "cell_type": "code",
<<<<<<< HEAD
   "execution_count": 20,
=======
   "execution_count": 56,
>>>>>>> 817712728e680bad872ae373069e420b22fa6ba3
   "metadata": {},
   "outputs": [
    {
     "data": {
      "text/plain": [
       "4"
      ]
     },
<<<<<<< HEAD
     "execution_count": 20,
=======
     "execution_count": 56,
>>>>>>> 817712728e680bad872ae373069e420b22fa6ba3
     "metadata": {},
     "output_type": "execute_result"
    }
   ],
   "source": [
<<<<<<< HEAD
    "nombre.capitalize()\n",
=======
>>>>>>> 817712728e680bad872ae373069e420b22fa6ba3
    "nombre.count(\"a\")"
   ]
  },
  {
   "cell_type": "code",
<<<<<<< HEAD
   "execution_count": 36,
=======
   "execution_count": null,
>>>>>>> 817712728e680bad872ae373069e420b22fa6ba3
   "metadata": {
    "colab": {
     "base_uri": "https://localhost:8080/"
    },
    "executionInfo": {
     "elapsed": 357,
     "status": "ok",
     "timestamp": 1725323642404,
     "user": {
      "displayName": "Pilar Vanessa Hidalgo León",
      "userId": "05847007721632761533"
     },
     "user_tz": 300
    },
    "id": "1gkHsMhVI3ZS",
    "outputId": "7ae17222-fe16-4282-ca57-372f7ed35379"
   },
   "outputs": [],
   "source": [
    "print(nombre)\n",
    "print(nombre.title())\n",
    "print(nombre.upper())\n",
    "print(nombre.lower())"
   ]
  },
  {
   "cell_type": "code",
   "execution_count": 58,
   "metadata": {
    "colab": {
     "base_uri": "https://localhost:8080/"
    },
    "executionInfo": {
     "elapsed": 390,
     "status": "ok",
     "timestamp": 1725323751481,
     "user": {
      "displayName": "Pilar Vanessa Hidalgo León",
      "userId": "05847007721632761533"
     },
     "user_tz": 300
    },
    "id": "ZqcYfoiMI3ZS",
    "outputId": "57c50ed4-8b82-4a8b-83cb-d67d1c68e326"
   },
   "outputs": [
    {
     "name": "stdout",
     "output_type": "stream",
     "text": [
      "juana arias gómez\n",
      "Juana Arias Gómez\n",
      "Juana arias gómez\n"
     ]
    }
   ],
   "source": [
    "apellido = \"gómez\"\n",
    "\n",
    "nombre_completo = nombre + \" \" + apellido\n",
    "print(nombre_completo)\n",
    "print(nombre_completo.title())\n",
    "print(nombre_completo.capitalize())"
   ]
  },
  {
   "cell_type": "code",
   "execution_count": 60,
   "metadata": {
    "colab": {
     "base_uri": "https://localhost:8080/"
    },
    "executionInfo": {
     "elapsed": 838,
     "status": "ok",
     "timestamp": 1726102838995,
     "user": {
      "displayName": "Pilar Vanessa Hidalgo León",
      "userId": "05847007721632761533"
     },
     "user_tz": 300
    },
    "id": "kgiLqp3NI3ZS",
    "outputId": "bf8d6b83-cbdc-4227-8b12-31458a5612a2"
   },
   "outputs": [
    {
     "data": {
      "text/plain": [
       "False"
      ]
     },
     "execution_count": 60,
     "metadata": {},
     "output_type": "execute_result"
    }
   ],
   "source": [
    "'vi' in nombre"
   ]
  },
  {
   "cell_type": "code",
   "execution_count": 61,
   "metadata": {
    "colab": {
     "base_uri": "https://localhost:8080/",
     "height": 36
    },
    "executionInfo": {
     "elapsed": 293,
     "status": "ok",
     "timestamp": 1726102885304,
     "user": {
      "displayName": "Pilar Vanessa Hidalgo León",
      "userId": "05847007721632761533"
     },
     "user_tz": 300
    },
    "id": "feSOLcoEI3ZS",
    "outputId": "38c93ebf-7db2-4446-84bc-4b6a3dd63af9"
   },
   "outputs": [
    {
     "data": {
      "text/plain": [
       "'fuana arias'"
      ]
     },
     "execution_count": 61,
     "metadata": {},
     "output_type": "execute_result"
    }
   ],
   "source": [
    "nombre.replace(\"j\", \"f\")"
   ]
  },
  {
   "cell_type": "code",
<<<<<<< HEAD
   "execution_count": 22,
=======
   "execution_count": 65,
>>>>>>> 817712728e680bad872ae373069e420b22fa6ba3
   "metadata": {
    "colab": {
     "base_uri": "https://localhost:8080/"
    },
    "executionInfo": {
     "elapsed": 327,
     "status": "ok",
     "timestamp": 1726102951135,
     "user": {
      "displayName": "Pilar Vanessa Hidalgo León",
      "userId": "05847007721632761533"
     },
     "user_tz": 300
    },
    "id": "UiWe8I1hI3ZS",
    "outputId": "8d211b70-3ede-49c8-ed3e-e55e9e0203d8"
   },
   "outputs": [
    {
     "data": {
      "text/plain": [
       "\"Alguien alguna vez dijo: 'Medir el éxito de una inversión solo por su retorno es como medir la calidad de un auto solo por su velocidad máxima'.\""
      ]
     },
<<<<<<< HEAD
     "execution_count": 22,
=======
     "execution_count": 65,
>>>>>>> 817712728e680bad872ae373069e420b22fa6ba3
     "metadata": {},
     "output_type": "execute_result"
    }
   ],
   "source": [
    "dicho = \"Alguien alguna vez dijo: 'Medir el éxito de una inversión solo por su retorno es como medir la calidad de un auto solo por su velocidad máxima'.\"\n",
<<<<<<< HEAD
    "#dicho.split(\":\")\n",
    "#dicho.split(\" \")\n",
    "dicho.split(\":\")"
=======
    "dicho\n",
    "# dicho.split(\":\")\n",
    "# dicho.split(\" \")"
>>>>>>> 817712728e680bad872ae373069e420b22fa6ba3
   ]
  },
  {
   "cell_type": "code",
<<<<<<< HEAD
   "execution_count": 25,
=======
   "execution_count": 66,
>>>>>>> 817712728e680bad872ae373069e420b22fa6ba3
   "metadata": {
    "executionInfo": {
     "elapsed": 387,
     "status": "ok",
     "timestamp": 1726182914183,
     "user": {
      "displayName": "Pilar Vanessa Hidalgo León",
      "userId": "05847007721632761533"
     },
     "user_tz": 300
    },
    "id": "AVCzlraiUhM2"
   },
   "outputs": [],
   "source": [
    "nombre='daniela'"
   ]
  },
  {
   "cell_type": "code",
<<<<<<< HEAD
   "execution_count": 26,
=======
   "execution_count": 67,
>>>>>>> 817712728e680bad872ae373069e420b22fa6ba3
   "metadata": {
    "colab": {
     "base_uri": "https://localhost:8080/",
     "height": 36
    },
    "executionInfo": {
     "elapsed": 411,
     "status": "ok",
     "timestamp": 1726182923437,
     "user": {
      "displayName": "Pilar Vanessa Hidalgo León",
      "userId": "05847007721632761533"
     },
     "user_tz": 300
    },
    "id": "q53JKkv_UWmO",
    "outputId": "8efc5a0f-72c4-438e-af51-8d05074e80c9"
   },
   "outputs": [
    {
     "data": {
      "text/plain": [
       "'Daniela'"
      ]
     },
<<<<<<< HEAD
     "execution_count": 26,
=======
     "execution_count": 67,
>>>>>>> 817712728e680bad872ae373069e420b22fa6ba3
     "metadata": {},
     "output_type": "execute_result"
    }
   ],
   "source": [
    "nombre.title()"
   ]
  },
  {
   "cell_type": "code",
<<<<<<< HEAD
   "execution_count": 27,
=======
   "execution_count": 69,
>>>>>>> 817712728e680bad872ae373069e420b22fa6ba3
   "metadata": {
    "colab": {
     "base_uri": "https://localhost:8080/"
    },
    "executionInfo": {
     "elapsed": 413,
     "status": "ok",
     "timestamp": 1726182965298,
     "user": {
      "displayName": "Pilar Vanessa Hidalgo León",
      "userId": "05847007721632761533"
     },
     "user_tz": 300
    },
    "id": "go8n6aodhXwB",
    "outputId": "061016a0-e3f1-4ce9-e35a-0bb411b8d45b"
   },
   "outputs": [
    {
     "name": "stdout",
     "output_type": "stream",
     "text": [
      "Mi abuela se llama DANIELA\n"
     ]
    }
   ],
   "source": [
    "print(\"Mi abuela se llama \"+nombre.upper())"
   ]
  },
  {
   "cell_type": "code",
<<<<<<< HEAD
   "execution_count": 29,
=======
   "execution_count": 71,
>>>>>>> 817712728e680bad872ae373069e420b22fa6ba3
   "metadata": {
    "colab": {
     "base_uri": "https://localhost:8080/"
    },
    "executionInfo": {
     "elapsed": 340,
     "status": "ok",
     "timestamp": 1725323962211,
     "user": {
      "displayName": "Pilar Vanessa Hidalgo León",
      "userId": "05847007721632761533"
     },
     "user_tz": 300
    },
    "id": "EaVwcIDrI3ZT",
    "outputId": "436fa2fa-5488-4f43-d651-6d5309150a74"
   },
   "outputs": [
    {
     "name": "stdout",
     "output_type": "stream",
     "text": [
      "Mi abuela se llama DANIELA\n",
      "este es un float: 30\n"
     ]
    }
   ],
   "source": [
    "#El método format nos permite agregar una variable como string.\n",
    "print(\"Mi abuela se llama {}\".format(nombre.upper()))\n",
    "print(\"este es un float: {}\".format(30))"
   ]
  },
  {
   "cell_type": "code",
   "execution_count": 74,
   "metadata": {
    "colab": {
     "base_uri": "https://localhost:8080/"
    },
    "executionInfo": {
     "elapsed": 401,
     "status": "ok",
     "timestamp": 1726183023686,
     "user": {
      "displayName": "Pilar Vanessa Hidalgo León",
      "userId": "05847007721632761533"
     },
     "user_tz": 300
    },
    "id": "YI_2tQ1sI3ZT",
    "outputId": "850494ec-e9ed-4dbe-909e-0b15d857f400"
   },
   "outputs": [
    {
     "name": "stdout",
     "output_type": "stream",
     "text": [
      "5 por 7 es igual a 35\n",
      "5.3 por 7.567 es igual a 40.41\n"
     ]
    }
   ],
   "source": [
    "print(\"{} por {} es igual a {}\".format(5, 7, 7*5))\n",
    "print(\"{:.1f} por {:.3f} es igual a {:.2f}\".format(5.34, 7.566777, 5.34*7.566777))"
   ]
  },
  {
   "cell_type": "markdown",
   "metadata": {
    "id": "KmjG49_dI3ZT"
   },
   "source": [
    "En general, los _strings_ vendrán con estos _métodos_ adicionales con los que valen la pena familarizarse. Ahondaremos esto en expresiones regulares."
   ]
  },
  {
   "cell_type": "markdown",
   "metadata": {
    "id": "iFhentbOI3ZT"
   },
   "source": [
    "<a class=\"anchor\" id=\"booleans\"></a>\n",
    "### Booleans"
   ]
  },
  {
   "cell_type": "markdown",
   "metadata": {
    "id": "kbrFln_iI3ZU"
   },
   "source": [
    "Los booleans son variables que simplemente indican Verdadero (True) o Falso (False)"
   ]
  },
  {
   "cell_type": "code",
   "execution_count": 46,
   "metadata": {
    "executionInfo": {
     "elapsed": 386,
     "status": "ok",
     "timestamp": 1726183076248,
     "user": {
      "displayName": "Pilar Vanessa Hidalgo León",
      "userId": "05847007721632761533"
     },
     "user_tz": 300
    },
    "id": "I51sIIMPI3ZU"
   },
   "outputs": [],
   "source": [
    "verdadero = True\n",
    "falso = False"
   ]
  },
  {
   "cell_type": "code",
   "execution_count": null,
   "metadata": {
    "colab": {
     "base_uri": "https://localhost:8080/"
    },
    "executionInfo": {
     "elapsed": 378,
     "status": "ok",
     "timestamp": 1726183079303,
     "user": {
      "displayName": "Pilar Vanessa Hidalgo León",
      "userId": "05847007721632761533"
     },
     "user_tz": 300
    },
    "id": "4SsEN_vvI3ZU",
    "outputId": "04404d68-b8ff-40a0-aeba-9f6611e19ec0"
   },
   "outputs": [],
   "source": [
    "print(verdadero)\n",
    "print(falso)"
   ]
  },
  {
   "cell_type": "markdown",
   "metadata": {
    "id": "ylqMHhD9I3ZU"
   },
   "source": [
    "Los booleans se evalúan como 1 (True) y 0 (False), por ello:"
   ]
  },
  {
   "cell_type": "code",
   "execution_count": null,
   "metadata": {
    "colab": {
     "base_uri": "https://localhost:8080/"
    },
    "executionInfo": {
     "elapsed": 325,
     "status": "ok",
     "timestamp": 1726183094759,
     "user": {
      "displayName": "Pilar Vanessa Hidalgo León",
      "userId": "05847007721632761533"
     },
     "user_tz": 300
    },
    "id": "03hlHFpAI3ZV",
    "outputId": "18b16ed0-9809-445a-fbee-5c65ebc249e0"
   },
   "outputs": [],
   "source": [
    "verdadero > falso"
   ]
  },
  {
   "cell_type": "markdown",
   "metadata": {
    "id": "2PRc2P6kI3ZV"
   },
   "source": [
    "\n",
    "### el valor `None`"
   ]
  },
  {
   "cell_type": "markdown",
   "metadata": {
    "id": "dvcLtuTEI3ZV"
   },
   "source": [
    "Este es un valor especial que se usa cuando queremos definir una variable que aún no tiene un valor, y que usualmente será actualizada luego. Es como una variable vacía."
   ]
  },
  {
   "cell_type": "code",
   "execution_count": null,
   "metadata": {
    "colab": {
     "base_uri": "https://localhost:8080/"
    },
    "executionInfo": {
     "elapsed": 387,
     "status": "ok",
     "timestamp": 1726183199843,
     "user": {
      "displayName": "Pilar Vanessa Hidalgo León",
      "userId": "05847007721632761533"
     },
     "user_tz": 300
    },
    "id": "tCxAoXGzI3ZV",
    "outputId": "f99e5518-585a-4d00-e0d6-89ace11b3796"
   },
   "outputs": [],
   "source": [
    "almuerzo  = None\n",
    "if almuerzo is None:\n",
    "  print(\"Ve a almorzar\")\n",
    "else:\n",
    "  print(\"Ya almorcé\")"
   ]
  },
  {
   "cell_type": "markdown",
   "metadata": {
    "id": "eqdNdWmYI3ZV"
   },
   "source": [
    "<a class=\"anchor\" id=\"casting\"></a>\n",
    "### Convirtiendo variables a otro tipo.\n",
    "_Casting_, o conversión de tipos, es un proceso en el que un tipo de dato se convierte en otro tipo de dato."
   ]
  },
  {
   "cell_type": "code",
   "execution_count": null,
   "metadata": {
    "colab": {
     "base_uri": "https://localhost:8080/"
    },
    "executionInfo": {
     "elapsed": 405,
     "status": "ok",
     "timestamp": 1726183305264,
     "user": {
      "displayName": "Pilar Vanessa Hidalgo León",
      "userId": "05847007721632761533"
     },
     "user_tz": 300
    },
    "id": "5gXt7N8pWAb5",
    "outputId": "721db855-62f0-43bb-bc55-6440651c9295"
   },
   "outputs": [],
   "source": [
    "numero=int('300')\n",
    "type(numero)"
   ]
  },
  {
   "cell_type": "code",
   "execution_count": null,
   "metadata": {
    "id": "DP14nLRtI3ZV",
    "outputId": "d4a6290c-c231-4ebe-8f7b-90d4ae672931"
   },
   "outputs": [],
   "source": [
    "int('300') # 300\n",
    "int(3.1416) # 3\n",
    "\n",
    "str(True) # '1'\n",
    "str(3.1416) # '3.1416'\n",
    "\n",
    "float(1) # 1.0"
   ]
  },
  {
   "cell_type": "code",
   "execution_count": null,
   "metadata": {
    "colab": {
     "base_uri": "https://localhost:8080/"
    },
    "executionInfo": {
     "elapsed": 5,
     "status": "ok",
     "timestamp": 1726183380242,
     "user": {
      "displayName": "Pilar Vanessa Hidalgo León",
      "userId": "05847007721632761533"
     },
     "user_tz": 300
    },
    "id": "HIr1Ts7Wi3Ci",
    "outputId": "8d524db3-351a-49dd-9588-548b6e766dde"
   },
   "outputs": [],
   "source": [
    "int(False)"
   ]
  },
  {
   "cell_type": "markdown",
   "metadata": {
    "id": "yh-WNYDbI3ZV"
   },
   "source": [
    "Consideraciones:\n",
    "- Pérdida de información y precisión.\n",
    "- Conversión entre tipos incompatibles."
   ]
  },
  {
   "cell_type": "markdown",
   "metadata": {
    "id": "pA0wv5gkI3ZW"
   },
   "source": [
    "<a class=\"anchor\" id=\"operadores\"></a>\n",
    "\n",
    "## 3. Operadores"
   ]
  },
  {
   "cell_type": "markdown",
   "metadata": {
    "id": "g04mJZylI3ZW"
   },
   "source": [
    "Los operadores son utilizados para realizar operaciones en variables y values.\n",
    "\n",
    "Los operadores son:\n",
    "\n",
    "- Operadores aritméticos  \n",
    "- Operadores de comparación\n",
    "- Operadores lógicos\n",
    "- Operadores de identidad\n",
    "- Operadores de asignación aumentada\n",
    "- Operadores de membresía\n",
    "- Operadores bitwise\n",
    "\n"
   ]
  },
  {
   "cell_type": "markdown",
   "metadata": {
    "id": "YnJO6q_QI3ZW"
   },
   "source": [
    "<a class=\"anchor\" id=\"aritmeticos\"></a>\n",
    "\n",
    "### Operadores aritméticos\n",
    "- `+` (suma)\n",
    "- `-` (resta)\n",
    "- `*` (multiplicación)\n",
    "- `/ `(división)\n",
    "- `%` (módulo, devuelve el resto de una división, o la parte decimal expresada en enteros)\n",
    "- `**` (exponente, potenciación)\n",
    "- `// ` (división entera cuyo resultado es el entero redondeado al más bajo)"
   ]
  },
  {
   "cell_type": "markdown",
   "metadata": {
    "id": "IndoJRC5I3ZX"
   },
   "source": [
    "- Ejercicios:\n",
    "\n",
    "- Calcula el total de gastos semanales en pasajes. Los gastos diarios son: lunes S/.5.50, martes S/. 18.90, miércoles S/.12.80, jueves S/.50, y viernes S/.25.20. Asigna una variable al resultado.\n",
    "\n",
    "- Si un automóvil recorre 350 kilómetros en un día y ya recorrio 150 kilómetros antes de llegar a su destino, calcula la distancia que aún falta por recorrer.\n",
    "\n",
    "- Un productor de café tiene 15 sacos de 5 (12.5kg) arrobas cada una. Calcula cuántas bolsas de 3 kilos se utilizarían para redistribuir esta cantidad.\n",
    "\n",
    "- En un curso de 400 estudiantes hay 1121 lapiceros. Determina cuántos lapiceros le corresponden a cada estudiante.\n",
    "\n",
    "- Hay 42 computadores disponibles para estos 400 estudiantes. Todo estudiante debe ser asignado a una computadora. ¿Cuántas computadoras tiene asignado un estudiante de más?\n",
    "\n",
    "- Encuentra el promedio de las siguientes cinco calificaciones: 11, 08, 20, 15, 16\n",
    "\n",
    "- Calcula el área de un cuadrado cuyo lado mide 8 centímetros utilizando el operador de potencia.\n",
    "\n",
    "\n"
   ]
  },
  {
   "cell_type": "code",
   "execution_count": null,
   "metadata": {
    "colab": {
     "base_uri": "https://localhost:8080/"
    },
    "executionInfo": {
     "elapsed": 372,
     "status": "ok",
     "timestamp": 1726184104939,
     "user": {
      "displayName": "Pilar Vanessa Hidalgo León",
      "userId": "05847007721632761533"
     },
     "user_tz": 300
    },
    "id": "bVFvhgFQG1PA",
    "outputId": "23848339-a763-47a4-f94e-92bdbeb99720"
   },
   "outputs": [],
   "source": [
    "#Calcula el total de gastos semanales en pasajes. Los gastos diarios son: lunes S/.5.50, martes S/. 18.90, miércoles S/.12.80, jueves S/.50, y viernes S/.25.20. Asigna una variable al resultado.\n",
    "lun=5.50\n",
    "mar=18.9\n",
    "mie=12.80\n",
    "jue=50\n",
    "vie=25.2\n",
    "total=(lun+mar+mie+jue+vie)*5\n",
    "print(total)\n"
   ]
  },
  {
   "cell_type": "code",
   "execution_count": null,
   "metadata": {
    "colab": {
     "base_uri": "https://localhost:8080/"
    },
    "executionInfo": {
     "elapsed": 360,
     "status": "ok",
     "timestamp": 1725405730701,
     "user": {
      "displayName": "Pilar Vanessa Hidalgo León",
      "userId": "05847007721632761533"
     },
     "user_tz": 300
    },
    "id": "smPwxnwUG8ZI",
    "outputId": "8d7d9b94-5666-4e49-d482-d5d151910c16"
   },
   "outputs": [],
   "source": [
    "#Un productor de café tiene 15 sacos de 5 arrobas cada una (12.5kg) .\n",
    "#Calcula cuántas bolsas de 3 kilos se utilizarían para redistribuir esta cantidad.\n",
    "\n",
    "total=15*12.5\n",
    "bolsas=total//3\n",
    "bolsas"
   ]
  },
  {
   "cell_type": "code",
   "execution_count": 55,
   "metadata": {
    "id": "V_PyB9RDG9uK"
   },
   "outputs": [],
   "source": [
    "# En un curso de 400 estudiantes hay 1121 lapiceros. Determina cuántos lapiceros le corresponden a cada estudiante.\n"
   ]
  },
  {
   "cell_type": "code",
   "execution_count": 56,
   "metadata": {
    "id": "zA2PPG2OG-nj"
   },
   "outputs": [],
   "source": [
    "# Hay 42 computadores disponibles para estos 400 estudiantes. Todo estudiante debe ser asignado a una computadora. ¿Cuántas computadoras tiene asignado un estudiante de más?"
   ]
  },
  {
   "cell_type": "code",
   "execution_count": 57,
   "metadata": {
    "id": "JXtx3LnkHCM6"
   },
   "outputs": [],
   "source": [
    "# Encuentra el promedio de las siguientes cinco calificaciones: 11, 08, 20, 15, 16\n",
    "\n"
   ]
  },
  {
   "cell_type": "code",
   "execution_count": 58,
   "metadata": {
    "id": "Tuuu3RgdHDZb"
   },
   "outputs": [],
   "source": [
    "#Calcula el área de un cuadrado cuyo lado mide 8 centímetros utilizando el operador de potencia."
   ]
  },
  {
   "cell_type": "markdown",
   "metadata": {
    "id": "m4EvIIBpI3ZX"
   },
   "source": [
    "Python puede mezclar operadores aritméticos:\n"
   ]
  },
  {
   "cell_type": "code",
   "execution_count": null,
   "metadata": {
    "colab": {
     "base_uri": "https://localhost:8080/"
    },
    "executionInfo": {
     "elapsed": 356,
     "status": "ok",
     "timestamp": 1726184242706,
     "user": {
      "displayName": "Pilar Vanessa Hidalgo León",
      "userId": "05847007721632761533"
     },
     "user_tz": 300
    },
    "id": "RpNw2QaRI3ZX",
    "outputId": "3214d022-1b21-4ede-cb10-080e4be47c93"
   },
   "outputs": [],
   "source": [
    "1 + 5 + 7 / 6  ** 2 + 250 % 8"
   ]
  },
  {
   "cell_type": "markdown",
   "metadata": {
    "id": "NJ9LjNZHI3ZX"
   },
   "source": [
    "Esto hace variar la prioridad del operador. La forma como \"rompemos\" esta prioridad es utilizando paréntesis (), que forma parte de los delimitadores (los veremos más adelante). En el ejemplo anterior:  "
   ]
  },
  {
   "cell_type": "code",
   "execution_count": null,
   "metadata": {
    "colab": {
     "base_uri": "https://localhost:8080/"
    },
    "executionInfo": {
     "elapsed": 363,
     "status": "ok",
     "timestamp": 1726184244947,
     "user": {
      "displayName": "Pilar Vanessa Hidalgo León",
      "userId": "05847007721632761533"
     },
     "user_tz": 300
    },
    "id": "3rixymjpI3ZY",
    "outputId": "3cd35b91-c84c-44b4-c83a-a333d6cd4987"
   },
   "outputs": [],
   "source": [
    "(1 + 5 + 7) / 6 ** 2 + 250 % 8"
   ]
  },
  {
   "cell_type": "code",
   "execution_count": null,
   "metadata": {
    "colab": {
     "base_uri": "https://localhost:8080/"
    },
    "executionInfo": {
     "elapsed": 362,
     "status": "ok",
     "timestamp": 1726184247125,
     "user": {
      "displayName": "Pilar Vanessa Hidalgo León",
      "userId": "05847007721632761533"
     },
     "user_tz": 300
    },
    "id": "SnOa-VtGI3ZY",
    "outputId": "1c983f28-ed15-4680-8a82-e179adc41652"
   },
   "outputs": [],
   "source": [
    "(1 + 5 + 7) / 6 ** (2 + 250) % 8"
   ]
  },
  {
   "cell_type": "code",
   "execution_count": null,
   "metadata": {
    "colab": {
     "base_uri": "https://localhost:8080/"
    },
    "executionInfo": {
     "elapsed": 378,
     "status": "ok",
     "timestamp": 1725324724694,
     "user": {
      "displayName": "Pilar Vanessa Hidalgo León",
      "userId": "05847007721632761533"
     },
     "user_tz": 300
    },
    "id": "KT07goH3I3ZY",
    "outputId": "fd9185a1-8453-4fee-91e8-3440ae832f62"
   },
   "outputs": [],
   "source": [
    "1 + ((5 + 7) / 6 ** 2) + (250 % 8)"
   ]
  },
  {
   "cell_type": "markdown",
   "metadata": {
    "id": "T8Moerc-I3ZY"
   },
   "source": [
    "<a class=\"anchor\" id=\"comparacion\"></a>\n",
    "\n",
    "### Operadores de comparación\n",
    "\n",
    "Los siguientes operadores realizan comparaciones entre valores/variables\n",
    "\n",
    "* `>`     Mayor que\n",
    "* `<`     Menor que\n",
    "* `>=`  Mayor o igual que\n",
    "* `<=`  Menor o igual que\n",
    "* `==`  Igual a\n",
    "* `!=`  No igual a\n",
    "\n",
    "Cuando se comparan estos valores, el resultado será un Booleano: True o False."
   ]
  },
  {
   "cell_type": "code",
   "execution_count": null,
   "metadata": {
    "colab": {
     "base_uri": "https://localhost:8080/"
    },
    "executionInfo": {
     "elapsed": 353,
     "status": "ok",
     "timestamp": 1725324739324,
     "user": {
      "displayName": "Pilar Vanessa Hidalgo León",
      "userId": "05847007721632761533"
     },
     "user_tz": 300
    },
    "id": "lrOTWfNsI3ZY",
    "outputId": "d2c3fab5-b280-43a5-968a-ea3b8e60ade0"
   },
   "outputs": [],
   "source": [
    "10 > 12"
   ]
  },
  {
   "cell_type": "code",
   "execution_count": null,
   "metadata": {
    "colab": {
     "base_uri": "https://localhost:8080/"
    },
    "executionInfo": {
     "elapsed": 382,
     "status": "ok",
     "timestamp": 1725324743269,
     "user": {
      "displayName": "Pilar Vanessa Hidalgo León",
      "userId": "05847007721632761533"
     },
     "user_tz": 300
    },
    "id": "TqIfSnvlI3ZZ",
    "outputId": "4d99ebdd-eb0a-4799-da8c-e1f69b6e7305"
   },
   "outputs": [],
   "source": [
    "1 < 4"
   ]
  },
  {
   "cell_type": "code",
   "execution_count": null,
   "metadata": {
    "colab": {
     "base_uri": "https://localhost:8080/"
    },
    "executionInfo": {
     "elapsed": 347,
     "status": "ok",
     "timestamp": 1725324745870,
     "user": {
      "displayName": "Pilar Vanessa Hidalgo León",
      "userId": "05847007721632761533"
     },
     "user_tz": 300
    },
    "id": "L9Wk52PSI3ZZ",
    "outputId": "40cab8fb-15bc-4c6f-9587-5c5d1d92dfe7"
   },
   "outputs": [],
   "source": [
    "10 == 10"
   ]
  },
  {
   "cell_type": "code",
   "execution_count": null,
   "metadata": {
    "colab": {
     "base_uri": "https://localhost:8080/"
    },
    "executionInfo": {
     "elapsed": 343,
     "status": "ok",
     "timestamp": 1725324748514,
     "user": {
      "displayName": "Pilar Vanessa Hidalgo León",
      "userId": "05847007721632761533"
     },
     "user_tz": 300
    },
    "id": "f6zYQzAgI3ZZ",
    "outputId": "6f896a49-d2b2-4b3d-f41c-298ff9c5b0ca"
   },
   "outputs": [],
   "source": [
    "10 >= 10"
   ]
  },
  {
   "cell_type": "code",
   "execution_count": null,
   "metadata": {
    "colab": {
     "base_uri": "https://localhost:8080/"
    },
    "executionInfo": {
     "elapsed": 333,
     "status": "ok",
     "timestamp": 1725324753289,
     "user": {
      "displayName": "Pilar Vanessa Hidalgo León",
      "userId": "05847007721632761533"
     },
     "user_tz": 300
    },
    "id": "zAgz5O9sI3ZZ",
    "outputId": "a3344287-073a-4838-b6c4-57d7b2fae49d"
   },
   "outputs": [],
   "source": [
    "3.14 == 3.1416"
   ]
  },
  {
   "cell_type": "markdown",
   "metadata": {
    "id": "ffxr_3JKI3ZZ"
   },
   "source": [
    "Los operadores aritméticos y de comparación se pueden mezclar!"
   ]
  },
  {
   "cell_type": "code",
   "execution_count": null,
   "metadata": {
    "colab": {
     "base_uri": "https://localhost:8080/"
    },
    "executionInfo": {
     "elapsed": 347,
     "status": "ok",
     "timestamp": 1726184310116,
     "user": {
      "displayName": "Pilar Vanessa Hidalgo León",
      "userId": "05847007721632761533"
     },
     "user_tz": 300
    },
    "id": "NAW8XgbtI3ZZ",
    "outputId": "ff26e174-2640-41df-8614-9664227b23ec"
   },
   "outputs": [],
   "source": [
    "5 * 6 > 3 ** 2 - 1"
   ]
  },
  {
   "cell_type": "markdown",
   "metadata": {
    "id": "QDUYQm1LI3Za"
   },
   "source": [
    "<a class=\"anchor\" id=\"logicos\"></a>\n",
    "\n",
    "### Operadores lógicos/ booleanos\n",
    "\n",
    "Python usa los siguientes 3 operadores booleanos:\n",
    "* `and`\n",
    "* `or`\n",
    "* `not`\n",
    "\n",
    "Estos operadores evalúan dos expresiones que tienen que devolver True o False"
   ]
  },
  {
   "cell_type": "code",
   "execution_count": null,
   "metadata": {
    "colab": {
     "base_uri": "https://localhost:8080/"
    },
    "executionInfo": {
     "elapsed": 361,
     "status": "ok",
     "timestamp": 1726184350214,
     "user": {
      "displayName": "Pilar Vanessa Hidalgo León",
      "userId": "05847007721632761533"
     },
     "user_tz": 300
    },
    "id": "G4EUv0E5I3Zc",
    "outputId": "85ac8bc2-ef95-41bd-c874-7df78a1ce6c3"
   },
   "outputs": [],
   "source": [
    "(5 > 4) and (8 > 6)"
   ]
  },
  {
   "cell_type": "code",
   "execution_count": null,
   "metadata": {
    "colab": {
     "base_uri": "https://localhost:8080/"
    },
    "executionInfo": {
     "elapsed": 386,
     "status": "ok",
     "timestamp": 1726184369900,
     "user": {
      "displayName": "Pilar Vanessa Hidalgo León",
      "userId": "05847007721632761533"
     },
     "user_tz": 300
    },
    "id": "_1aak7ekI3Zd",
    "outputId": "efba3c9a-82a4-4085-b325-5a98b3cc5bcd"
   },
   "outputs": [],
   "source": [
    "(8 * 5) < 64 and (10 < 7)"
   ]
  },
  {
   "cell_type": "code",
   "execution_count": null,
   "metadata": {
    "colab": {
     "base_uri": "https://localhost:8080/"
    },
    "executionInfo": {
     "elapsed": 5,
     "status": "ok",
     "timestamp": 1726184371115,
     "user": {
      "displayName": "Pilar Vanessa Hidalgo León",
      "userId": "05847007721632761533"
     },
     "user_tz": 300
    },
    "id": "dc5AkOU0I3Zd",
    "outputId": "835b0e63-9268-448a-d769-e40bb31cd0d9"
   },
   "outputs": [],
   "source": [
    "(5 > 4) or (8 < 6)"
   ]
  },
  {
   "cell_type": "code",
   "execution_count": null,
   "metadata": {
    "colab": {
     "base_uri": "https://localhost:8080/"
    },
    "executionInfo": {
     "elapsed": 344,
     "status": "ok",
     "timestamp": 1726184373943,
     "user": {
      "displayName": "Pilar Vanessa Hidalgo León",
      "userId": "05847007721632761533"
     },
     "user_tz": 300
    },
    "id": "vA095z1FI3Ze",
    "outputId": "b8d7e8e6-0c40-42a7-b951-1df8ff11d0d4"
   },
   "outputs": [],
   "source": [
    "not (8 < 6)"
   ]
  },
  {
   "cell_type": "markdown",
   "metadata": {
    "id": "tXClE4oKI3Ze"
   },
   "source": [
    "Existe un orden de evaluación de estos operadores, que corresponden a las reglas matemáticas convencionales.\n",
    "\n",
    "\n",
    "|Orden| Operador              | Nombre                                                  |\n",
    "|------|------------------------|-------------------------------------------------------|\n",
    "|1| `**`                   | Exponencial                                        |\n",
    "|2| `*, /, //, %, @`       | multiplicación, división, piso, módulo, at |\n",
    "|3| `+, -`                 | más, menos                            |\n",
    "|4| `<, <=, >, >=, !=, ==` | Operadores de comparación                                  |\n",
    "|5| `not`                   | Booleano NOT                                        |\n",
    "|6| `and`                   | Booleano AND                                        |\n",
    "|7| `or`                   | Booleano OR                                        |\n"
   ]
  },
  {
   "cell_type": "markdown",
   "metadata": {
    "id": "Vf4JaIRiI3Ze"
   },
   "source": [
    "<a class=\"anchor\" id=\"identidad\"></a>\n",
    "\n",
    "### Operadores de identidad\n",
    "Utizados para comparar objetos, no en su valor, sino si refieren al mismo lugar en la memoria.\n",
    "\n",
    "- `is`\n",
    "- `is not`\n"
   ]
  },
  {
   "cell_type": "code",
   "execution_count": null,
   "metadata": {
    "colab": {
     "base_uri": "https://localhost:8080/"
    },
    "executionInfo": {
     "elapsed": 355,
     "status": "ok",
     "timestamp": 1726184555990,
     "user": {
      "displayName": "Pilar Vanessa Hidalgo León",
      "userId": "05847007721632761533"
     },
     "user_tz": 300
    },
    "id": "oAFb-3y8I3Ze",
    "outputId": "e178a91c-1cd0-4e63-cebf-a641d3058380"
   },
   "outputs": [],
   "source": [
    "x = 1226\n",
    "y = x\n",
    "\n",
    "x is y"
   ]
  },
  {
   "cell_type": "code",
   "execution_count": null,
   "metadata": {
    "colab": {
     "base_uri": "https://localhost:8080/"
    },
    "executionInfo": {
     "elapsed": 369,
     "status": "ok",
     "timestamp": 1726184619751,
     "user": {
      "displayName": "Pilar Vanessa Hidalgo León",
      "userId": "05847007721632761533"
     },
     "user_tz": 300
    },
    "id": "Pe4A9f4MI3Ze",
    "outputId": "7dcf0d63-2407-4d55-b6c9-e2e003a7bd10"
   },
   "outputs": [],
   "source": [
    "id(y)"
   ]
  },
  {
   "cell_type": "code",
   "execution_count": null,
   "metadata": {
    "colab": {
     "base_uri": "https://localhost:8080/"
    },
    "executionInfo": {
     "elapsed": 355,
     "status": "ok",
     "timestamp": 1726184624999,
     "user": {
      "displayName": "Pilar Vanessa Hidalgo León",
      "userId": "05847007721632761533"
     },
     "user_tz": 300
    },
    "id": "rQ9aa9PCI3Ze",
    "outputId": "4b6877ff-7340-45c0-a0f8-dca3b7da12a8"
   },
   "outputs": [],
   "source": [
    "id(x)"
   ]
  },
  {
   "cell_type": "code",
   "execution_count": 76,
   "metadata": {
    "executionInfo": {
     "elapsed": 371,
     "status": "ok",
     "timestamp": 1726184586201,
     "user": {
      "displayName": "Pilar Vanessa Hidalgo León",
      "userId": "05847007721632761533"
     },
     "user_tz": 300
    },
    "id": "U6ezHXX4I3Ze"
   },
   "outputs": [],
   "source": [
    "x2 = 1226\n",
    "y2 = 1226"
   ]
  },
  {
   "cell_type": "code",
   "execution_count": null,
   "metadata": {
    "colab": {
     "base_uri": "https://localhost:8080/"
    },
    "executionInfo": {
     "elapsed": 361,
     "status": "ok",
     "timestamp": 1726184602709,
     "user": {
      "displayName": "Pilar Vanessa Hidalgo León",
      "userId": "05847007721632761533"
     },
     "user_tz": 300
    },
    "id": "g5d8vSKDnqBj",
    "outputId": "f776b622-2ad9-48d1-bca3-47b9fc1c26df"
   },
   "outputs": [],
   "source": [
    "x2==y2"
   ]
  },
  {
   "cell_type": "code",
   "execution_count": null,
   "metadata": {
    "colab": {
     "base_uri": "https://localhost:8080/"
    },
    "executionInfo": {
     "elapsed": 388,
     "status": "ok",
     "timestamp": 1726184607855,
     "user": {
      "displayName": "Pilar Vanessa Hidalgo León",
      "userId": "05847007721632761533"
     },
     "user_tz": 300
    },
    "id": "qhOVtAHeI3Zf",
    "outputId": "537b96d6-e77b-4759-86cd-3a7323a0e5d6"
   },
   "outputs": [],
   "source": [
    "x2 is y2"
   ]
  },
  {
   "cell_type": "markdown",
   "metadata": {
    "id": "Gx6sKpAQI3Zf"
   },
   "source": [
    "<a class=\"anchor\" id=\"asignacion\"></a>\n",
    "\n",
    "### Operadores de asignación aumentada\n",
    "\n",
    "Estos operadores se vale del `=` y los operadores aritméticos para reasignar un valor, en base a un valor base. Estos son:\n",
    "|Operador| Ejemplo              | Igual a                                                 |\n",
    "|------|------------------------|-------------------------------------------------------|\n",
    "|`+=`|    `x += 2`               | `x = x + 2   `                              |\n",
    "|`-=`| `x -= 3` | `x = x - 3` |\n",
    "|`*=`| `x *= 2` | `x = x * 2`                         |\n",
    "|`/=`| `x /= 10` | `x = x / 10`                                  |\n",
    "|`//=`| `x //= 4`  | `x = x // 4`                                        |\n",
    "|`%=`| `x %= 3` | `x = x % 3`                                       |\n",
    "|`**=` | `x **= 2` | `x = x ** 2`                                     |\n",
    "|`&=`| `x&=3` | `x = x & 3`                                  |\n",
    "| `\\|=`     | `x \\|= 3` | `x = x \\| 3`             |\n",
    "|`^=`| `x ^= 3` | `x = x ^ 3`                                       |\n",
    "|`>>=` | `x >>= 3` | `x = x >> 3`                                     |\n",
    "\n",
    "\n",
    "\n",
    "\n",
    "Algunas fuentes también clasifican a estos símbolos como delimitadores, que veremos más adelante. Esto es debido a su función dual de operaciones y de sintaxis de separación.  "
   ]
  },
  {
   "cell_type": "markdown",
   "metadata": {
    "id": "LJNic4kxI3Zf",
    "jp-MarkdownHeadingCollapsed": true
   },
   "source": [
    "<a class=\"anchor\" id=\"membresia\"></a>\n",
    "\n",
    "### Operadores de membresía\n",
    "Son aquellos que indican si una secuencia pertenece un objeto.\n",
    "|Operador|Definición             | Ejemplo                                                |\n",
    "|------|------------------------|-------------------------------------------------------|\n",
    "|`in`|   Evalúa a `True` si una secuencia está presente en el objeto              | `2 in [1,2,3,4]`                              |\n",
    "|`not in`| Evalúa a `True` si una secuencia *no* está presente en el objeto | `2 not in [1,2,3,4]` |"
   ]
  },
  {
   "cell_type": "markdown",
   "metadata": {
    "id": "4W010mg-I3Zg"
   },
   "source": [
    "<a class=\"anchor\" id=\"delimitadores\"></a>\n",
    "\n",
    "## 4. Delimitadores:\n",
    "Son tokens que sirven para separar sentencias entre sí.   \n",
    "Estos son:\n",
    "`(`    `)`    `[`    `]`    `{`    `}`   `,`    `:`    `.`    ``` ` ```    `=`    `; `"
   ]
  },
  {
   "cell_type": "markdown",
   "metadata": {
    "id": "SVfnm2N8I3Zg"
   },
   "source": [
    "<a class=\"anchor\" id=\"claves\"></a>\n",
    "\n",
    "## 5. Keywords\n",
    "Son identificadores de python, reservados para usos sintácticos especiales. Son identificadores regulares(o palabras reservadas). Algunos keywords comienzan sentencias simples o compuestas, otros son operadores.\n"
   ]
  },
  {
   "cell_type": "code",
   "execution_count": null,
   "metadata": {
    "id": "CKo7UdDeI3Zg",
    "outputId": "a6647ef1-02aa-4972-859c-1da143d8e504"
   },
   "outputs": [],
   "source": [
    "import keyword\n",
    "print(keyword.kwlist)"
   ]
  },
  {
   "cell_type": "markdown",
   "metadata": {
    "id": "sHZvVJ7VI3Zg"
   },
   "source": [
    "¿Qué hace un buen comentario?\n",
    "- Es breve y va al grano, pero es una reflexión completa. La mayoría de los comentarios deben escribirse en oraciones completas.\n",
    "- Explica cómo estás pensando el problema, de modo que cuando vuelvas al código comprenderás cómo estabas abordándolo.\n",
    "- Explica tu pensamiento, de modo que otros que trabajan con tu código comprendan tu enfoque general ante un problema.\n",
    "- Explica en detalle secciones de código particularmente difíciles.\n",
    "  \n",
    "¿Cuándo deberías escribir comentarios?\n",
    "- Cuando tienes que pensar en el código antes de escribirlo.\n",
    "- Cuando es probable que luego olvides cómo estabas abordando un problema.\n",
    "- Cuando hay más de una manera de resolver un problema.\n",
    "- Cuando es poco probable que los demás anticipen tu forma de pensar sobre un problema.\n",
    "\n",
    "Escribir buenos comentarios es una de las señales claras de un buen programador. Si tiene algún interés real en tomarse la programación en serio, comience a utilizar comentarios ahora. Los verá a lo largo de los ejemplos de estos cuadernos.\n",
    "\n",
    "De Python Crash Course"
   ]
  },
  {
   "cell_type": "markdown",
   "metadata": {
    "id": "lEySMTfhI3Zg"
   },
   "source": [
    "[Volver a inicio](#principio)"
   ]
  },
  {
   "cell_type": "markdown",
   "metadata": {
    "id": "Vkmrcy-LI3Zh"
   },
   "source": [
    "Referencias:\n",
    "- Martelli, A., Ravenscroft, A., & Holden, S. (2017). Python in a Nutshell: The definitive reference (3rd ed.). O'Reilly Media.\n",
    "- Matthes, E. (2019). Python Crash Course: A Hands-On, Project-Based Introduction to Programming (2nd ed.). No Starch Press."
   ]
  }
 ],
 "metadata": {
  "celltoolbar": "Slideshow",
  "colab": {
   "provenance": []
  },
  "kernelspec": {
   "display_name": "base",
   "language": "python",
   "name": "python3"
  },
  "language_info": {
   "codemirror_mode": {
    "name": "ipython",
    "version": 3
   },
   "file_extension": ".py",
   "mimetype": "text/x-python",
   "name": "python",
   "nbconvert_exporter": "python",
   "pygments_lexer": "ipython3",
   "version": "3.12.7"
  }
 },
 "nbformat": 4,
 "nbformat_minor": 0
}
