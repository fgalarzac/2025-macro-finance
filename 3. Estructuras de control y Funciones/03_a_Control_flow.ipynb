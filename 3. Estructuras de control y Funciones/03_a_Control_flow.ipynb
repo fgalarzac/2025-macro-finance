{
 "cells": [
  {
   "cell_type": "markdown",
   "metadata": {},
   "source": [
    "# Flow Control (Control de flujos)"
   ]
  },
  {
   "cell_type": "markdown",
   "metadata": {},
   "source": [
    "- El flow control se refiere a **cómo** queremos que nuestras instrucciones (programa) se ejecuten\n",
    "    - **cómo**: el **_orden_** que queremos que tengan nuestros statements y las **_condiciones_** bajo las que queremos que se ejecuten\n",
    "- Tres principales tipos de flujo de control:\n",
    "    - Conditional statements\n",
    "    - Transfer statements\n",
    "    - Iterative statements\n"
   ]
  },
  {
   "cell_type": "markdown",
   "metadata": {},
   "source": [
    "<img src=\"https://pynative.com/wp-content/uploads/2021/03/python-flow-control-statements.png\" width=\"600\">"
   ]
  },
  {
   "cell_type": "markdown",
   "metadata": {},
   "source": [
    "## Conditional Statements\n",
    "\n",
    "Los statements condifionales (if statements) nos permiten realizar cosas basadas en una condicionalidad.\n",
    "\n",
    "La estructura general de un statement condicional es la siguiente:  \n",
    "\n",
    "<img src=\"https://www.tutorialspoint.com/python/images/decision_making_statements.jpg\" width=\"500\">\n",
    "\n",
    "\n",
    "```python\n",
    "if condition <boolean>:\n",
    "        <conditional statement>\n",
    "else:\n",
    "        <another conditional statement>\n",
    "```\n",
    "\n",
    "Boolean:\n",
    "\n",
    "- Equals: a == b\n",
    "- Not Equals: a != b\n",
    "- Less than: a < b\n",
    "- Less than or equal to: a <= b\n",
    "- Greater than: a > b\n",
    "- Greater than or equal to: a >= b"
   ]
  },
  {
   "cell_type": "markdown",
   "metadata": {},
   "source": [
    "#### Examples"
   ]
  },
  {
   "cell_type": "code",
   "execution_count": null,
   "metadata": {},
   "outputs": [],
   "source": [
    "x = 5 \n",
    "if x > 1:\n",
    "    print(\"x es mayor que 1\")\n",
    "print(\"Esto se imprime de todas maneras por estar fuera del indentado\")"
   ]
  },
  {
   "cell_type": "code",
   "execution_count": null,
   "metadata": {},
   "outputs": [],
   "source": [
    "x = 46\n",
    "if  x % 2 == 0: \n",
    "    print (\"Es par\")\n",
    "else:\n",
    "    print(\"Es impar\")"
   ]
  },
  {
   "cell_type": "markdown",
   "metadata": {},
   "source": [
    "### ```else```"
   ]
  },
  {
   "cell_type": "markdown",
   "metadata": {},
   "source": [
    "The ```else``` statement is evalueted when ```if``` is false"
   ]
  },
  {
   "cell_type": "code",
   "execution_count": null,
   "metadata": {},
   "outputs": [],
   "source": [
    "x = -5\n",
    "\n",
    "if x > 0:\n",
    "    print(\"positive number\")\n",
    "else:\n",
    "    print(\"non-positive number\")         "
   ]
  },
  {
   "cell_type": "markdown",
   "metadata": {},
   "source": [
    "### ```elif```"
   ]
  },
  {
   "cell_type": "markdown",
   "metadata": {},
   "source": [
    "The ```elif``` works before ```else``` evaluating conditions after ```if``` isn´t satisfied. The ```elif``` are mutually exclusive"
   ]
  },
  {
   "cell_type": "code",
   "execution_count": null,
   "metadata": {},
   "outputs": [],
   "source": [
    "x = -5\n",
    "\n",
    "if x > 0:\n",
    "    print(\"positive number\")\n",
    "elif x == 0:\n",
    "    print(\"zero\")\n",
    "else:\n",
    "    print(\"negative number\")         "
   ]
  },
  {
   "cell_type": "markdown",
   "metadata": {},
   "source": [
    "### Difference between ```elif``` and ```if```"
   ]
  },
  {
   "cell_type": "markdown",
   "metadata": {},
   "source": [
    "Múltiples ```if```: Cada ```if``` se evalúa de forma independiente. Esto significa que todas las condiciones que sean verdaderas se ejecutarán. En este caso, dado que x = 10, todas las condiciones ```if``` son verdaderas y por lo tanto, todas imprimirán sus respectivos mensajes."
   ]
  },
  {
   "cell_type": "code",
   "execution_count": null,
   "metadata": {},
   "outputs": [],
   "source": [
    "x = 10\n",
    "\n",
    "if x > 5:\n",
    "    print(\"x es mayor que 5\")\n",
    "if x > 8:\n",
    "    print(\"x es mayor que 8\")\n",
    "if x > 3:\n",
    "    print(\"x es mayor que 3\")"
   ]
  },
  {
   "cell_type": "markdown",
   "metadata": {},
   "source": [
    "Uso de ```if```, ```elif```, y ```else```: Esta estructura evalúa las condiciones de forma exclusiva hasta que una de ellas se cumple. Cuando se encuentra una condición verdadera, se ejecuta el bloque de código asociado y se ignora el resto de las condiciones ```elif``` y ```else```. En este caso, dado que x = 10, la primera condición ```if x > 5``` es verdadera, por lo que solo se ejecuta y se imprime \"En ```elif```: x es mayor que 5\", ignorando las demás condiciones."
   ]
  },
  {
   "cell_type": "code",
   "execution_count": null,
   "metadata": {},
   "outputs": [],
   "source": [
    "if x > 5:\n",
    "    print(\"En elif: x es mayor que 5\")\n",
    "elif x > 8:\n",
    "    print(\"En elif: x es mayor que 8\")\n",
    "elif x > 3:\n",
    "    print(\"En elif: x es mayor que 3\")\n",
    "else:\n",
    "    print(\"En elif: x no cumple ninguna condición anterior\")"
   ]
  },
  {
   "cell_type": "markdown",
   "metadata": {},
   "source": [
    "### [Logical Operators](https://www.geeksforgeeks.org/python-logical-operators-with-examples-improvement-needed/)\n",
    "\n",
    "\n",
    "Three key logical operators: **<font color = 'red' >and</font>**, **<font color = 'red' > or</font>**, and **<font color = 'red' > not</font>**."
   ]
  },
  {
   "cell_type": "code",
   "execution_count": null,
   "metadata": {},
   "outputs": [],
   "source": [
    "6>5 and 7>3"
   ]
  },
  {
   "cell_type": "code",
   "execution_count": null,
   "metadata": {},
   "outputs": [],
   "source": [
    "A = 20\n",
    "B = 25\n",
    "C = 25\n",
    "\n",
    "if ( A == B ) and ( A < C ):\n",
    "     print ('A is equal to B and less than C. Condition 1 is true.')\n",
    "    \n",
    "elif ( A > B ) or ( A > C ):\n",
    "     print ('A is greater than B or greater than C. Condition 2 is true.')\n",
    "\n",
    "elif ( B > C ) and ( B > A ):\n",
    "     print ('B is greater than C and greater than A. Condition 3 is true.')\n",
    "    \n",
    "else:\n",
    "     print ('When neither condition is true, this phrase is printed.')"
   ]
  },
  {
   "cell_type": "markdown",
   "metadata": {},
   "source": [
    "### [Identity Operators](https://www.w3schools.com/python/gloss_python_identity_operators.asp)\n",
    "\n",
    "These operators help us to compare whether variables refer to the same object.\n",
    "We have **<font color = 'red' >is</font>**, and **<font color = 'red' > is not</font>** as identity operators."
   ]
  },
  {
   "cell_type": "code",
   "execution_count": null,
   "metadata": {},
   "outputs": [],
   "source": [
    "C = None\n",
    "C"
   ]
  },
  {
   "cell_type": "code",
   "execution_count": null,
   "metadata": {},
   "outputs": [],
   "source": [
    "if C is None:\n",
    "    print( 'Ohh C is None :(')"
   ]
  },
  {
   "cell_type": "code",
   "execution_count": null,
   "metadata": {},
   "outputs": [],
   "source": [
    "if C is not float:\n",
    "    print( 'C is not a float')"
   ]
  },
  {
   "cell_type": "code",
   "execution_count": null,
   "metadata": {},
   "outputs": [],
   "source": [
    "9 not in [1,2,3,4]"
   ]
  },
  {
   "cell_type": "markdown",
   "metadata": {},
   "source": [
    "You can also review Memebership operators ```is```"
   ]
  },
  {
   "cell_type": "markdown",
   "metadata": {},
   "source": [
    "#### Difference between **<font color = 'red' > ==</font>** and **<font color = 'red' > is</font>** operator in Python\n",
    "\n",
    "1. **<font color = 'red' > ==</font>** operator compares the **values** of both the operands and checks for value equality.\n",
    "2. **<font color = 'red' > is</font>** operator checks whether both the operands refer to the same **object** or not (present in the same memory location)."
   ]
  },
  {
   "cell_type": "code",
   "execution_count": null,
   "metadata": {},
   "outputs": [],
   "source": [
    "a = 5\n",
    "b = 5\n",
    "print(a is b)"
   ]
  },
  {
   "cell_type": "code",
   "execution_count": null,
   "metadata": {},
   "outputs": [],
   "source": [
    "import numpy as np\n",
    "a = np.arange(0, 4)\n",
    "b = np.array( [0, 1 , 2 , 3 ] )\n",
    "print(a,b)\n",
    "print(a == b)\n",
    "print(a is b)\n",
    "print(id(a))\n",
    "print(id(b))"
   ]
  },
  {
   "cell_type": "markdown",
   "metadata": {},
   "source": [
    "### Nested ```if``` statement"
   ]
  },
  {
   "cell_type": "code",
   "execution_count": null,
   "metadata": {},
   "outputs": [],
   "source": [
    "total = 120\n",
    "country = \"PE\"\n",
    "#country = \"AR\"\n",
    "\n",
    "if country == \"PE\":\n",
    "    if total <= 50:\n",
    "        print(\"Shipping Cost is  $50\")\n",
    "    elif total <= 100:\n",
    "        print(\"Shipping Cost is $25\")\n",
    "    elif total <= 150:\n",
    "        print(\"Shipping Costs $5\")\n",
    "    else:\n",
    "        print(\"FREE\")\n",
    "    \n",
    "if country == \"AR\": \n",
    "    if total <= 50:\n",
    "        print(\"Shipping Cost is  $100\")\n",
    "    else:\n",
    "        print(\"FREE\")"
   ]
  },
  {
   "cell_type": "markdown",
   "metadata": {},
   "source": [
    "## Iterative Statements (I)"
   ]
  },
  {
   "cell_type": "markdown",
   "metadata": {},
   "source": [
    "### For loop\n",
    "\n",
    "A for loop is used for **iterating** over a sequence. It executes a code a definite number of times."
   ]
  },
  {
   "cell_type": "markdown",
   "metadata": {},
   "source": [
    "<img src=\"https://www.tutorialspoint.com/python/images/looping_works.jpg\" width=\"500\">\n",
    "\n",
    "```for``` structure:\n",
    "\n",
    "```python\n",
    "for value in <group of values>:\n",
    "    do something\n",
    "\n",
    "```\n",
    "\n"
   ]
  },
  {
   "cell_type": "markdown",
   "metadata": {},
   "source": [
    "### NumPy & lists"
   ]
  },
  {
   "cell_type": "code",
   "execution_count": null,
   "metadata": {},
   "outputs": [],
   "source": [
    "sequence = np.array( [15, 20, 25, 30 , 35 , 40 , 50 ] )\n",
    "sequence"
   ]
  },
  {
   "cell_type": "code",
   "execution_count": null,
   "metadata": {},
   "outputs": [],
   "source": [
    "for number in sequence:\n",
    "    # print(number)\n",
    "    square = number**2\n",
    "    print(square)"
   ]
  },
  {
   "cell_type": "code",
   "execution_count": null,
   "metadata": {},
   "outputs": [],
   "source": [
    "i = 0\n",
    "for element in sequence:\n",
    "    i += 1\n",
    "    print( element, element + i)"
   ]
  },
  {
   "cell_type": "markdown",
   "metadata": {},
   "source": [
    "Please, when iterating, don´t modify the original list "
   ]
  },
  {
   "cell_type": "code",
   "execution_count": null,
   "metadata": {},
   "outputs": [],
   "source": [
    "ages = [5, 17, 33, 45, 60]\n",
    "for elem in ages:\n",
    "    ages.pop(3)   #### DON'T DO THIS\n",
    "    print(ages)"
   ]
  },
  {
   "cell_type": "markdown",
   "metadata": {},
   "source": [
    "Instead, create a new list"
   ]
  },
  {
   "cell_type": "code",
   "execution_count": null,
   "metadata": {},
   "outputs": [],
   "source": [
    "ages = [5, 17, 33, 45, 60]\n",
    "\n",
    "new_lst = []\n",
    "\n",
    "for edad in ages:\n",
    "    edad +=5\n",
    "    new_lst.append(edad) \n",
    "print(new_lst)\n",
    "print(ages) "
   ]
  },
  {
   "cell_type": "markdown",
   "metadata": {},
   "source": [
    "### Diccionario"
   ]
  },
  {
   "cell_type": "code",
   "execution_count": null,
   "metadata": {},
   "outputs": [],
   "source": [
    "class_1 = { \"students\" : ['Miguel', 'Anthony', 'Paul', 'Rodrigo', 'Jason'] , \n",
    "           \"age\" : [20, 18, 15, 20, 22] }"
   ]
  },
  {
   "cell_type": "code",
   "execution_count": null,
   "metadata": {},
   "outputs": [],
   "source": [
    "class_1[\"students\"]"
   ]
  },
  {
   "cell_type": "code",
   "execution_count": null,
   "metadata": {},
   "outputs": [],
   "source": [
    " for val in class_1[\"age\"]:\n",
    "         print (val)"
   ]
  },
  {
   "cell_type": "code",
   "execution_count": null,
   "metadata": {},
   "outputs": [],
   "source": [
    "class_1.keys()"
   ]
  },
  {
   "cell_type": "code",
   "execution_count": null,
   "metadata": {},
   "outputs": [],
   "source": [
    "for val in class_1.values():\n",
    "    print( val )"
   ]
  },
  {
   "cell_type": "code",
   "execution_count": null,
   "metadata": {},
   "outputs": [],
   "source": [
    "for key in class_1.keys():\n",
    "    for val in class_1[key]:\n",
    "         print (val)"
   ]
  },
  {
   "cell_type": "markdown",
   "metadata": {},
   "source": [
    "### Usando un rango"
   ]
  },
  {
   "cell_type": "code",
   "execution_count": null,
   "metadata": {},
   "outputs": [],
   "source": [
    "# Class\n",
    "students = ['Miguel', 'Anthony', 'Paul', 'Rodrigo', 'Jason', 'Yajaira']\n",
    "\n",
    "# Ages\n",
    "ages = [20, 18, 15, 20, 22, 25]\n",
    "\n",
    "range(0, len(students))\n",
    "\n",
    "for index in range (0, len (students)):\n",
    "     print ( f'{ students[index] } is { ages[index] } years old.' )"
   ]
  },
  {
   "cell_type": "code",
   "execution_count": null,
   "metadata": {},
   "outputs": [],
   "source": [
    "print(enumerate( students ))"
   ]
  },
  {
   "cell_type": "code",
   "execution_count": null,
   "metadata": {},
   "outputs": [],
   "source": [
    "for i, element in enumerate( students ):\n",
    "    print ( f'{ students[i] } is { ages[i] } years old.' )"
   ]
  },
  {
   "cell_type": "markdown",
   "metadata": {},
   "source": [
    "### Nested For Loop\n",
    "\n",
    "A for loop inside of another for loop."
   ]
  },
  {
   "cell_type": "code",
   "execution_count": null,
   "metadata": {},
   "outputs": [],
   "source": [
    "age_class = [ [11, 12, 11] , [15, 16, 16] , [17, 17, 18]]\n",
    "age_class"
   ]
  },
  {
   "cell_type": "code",
   "execution_count": null,
   "metadata": {},
   "outputs": [],
   "source": [
    "for classs in age_class:\n",
    "    print( classs )\n",
    "    \n",
    "    for age in classs:\n",
    "        print( age )"
   ]
  },
  {
   "cell_type": "code",
   "execution_count": null,
   "metadata": {},
   "outputs": [],
   "source": [
    "# sequence\n",
    "students = [ 'Justin' , 'Pogba', 'Paul', 'Carrillo', 'Xavi' ]\n",
    "\n",
    "# age\n",
    "gr_age = [ 20, 18, 15, 20, 22]\n",
    "\n",
    "# Loops\n",
    "for student, age in zip( students , gr_age ):\n",
    "    print(f'{ student } is { age }')"
   ]
  },
  {
   "cell_type": "code",
   "execution_count": null,
   "metadata": {},
   "outputs": [],
   "source": [
    "## Diferent dimmensions\n",
    "# sequence\n",
    "students = [ 'Justin' , 'Pogba', 'Paul', 'Carrillo', 'Xavi' ]\n",
    "\n",
    "# Edades\n",
    "gr_age = [ 20, 18, 15, 20 ]\n",
    "\n",
    "for student, age in zip( students , gr_age ):\n",
    "    print(f'{ student } is { age }')"
   ]
  },
  {
   "cell_type": "code",
   "execution_count": null,
   "metadata": {},
   "outputs": [],
   "source": [
    "## if + for\n",
    "income_annual = [10_000, 20_000, 50_000, 120_000, 1000000, 6_000_000]\n",
    "uit = 5150\n",
    "\n",
    "# simplificar codigo usando elif\n",
    "for income in income_annual:\n",
    "    if income <= 5 * uit:\n",
    "        impuesto = 0.08 * income\n",
    "        print(\"if my income is S/\", str(income), \"my taxes are S/\", str(impuesto))\n",
    "    elif (income > 5 * uit) & (income <= 20 * uit):\n",
    "        impuesto = 0.14 * income\n",
    "        print(\"if my income is S/\", str(income), \"my taxes are S/\", str(impuesto))\n",
    "    elif (income > 20 * uit) & (income <= 35 * uit):\n",
    "        impuesto = 0.17 * income\n",
    "        print(\"if my income is S/\", str(income), \"my taxes are S/\", str(impuesto))\n",
    "    elif (income > 35 * uit) & (income <= 45 * uit):\n",
    "        impuesto = 0.2 * income\n",
    "        print(\"if my income is S/\", str(income), \"my taxes are S/\", str(impuesto))      \n",
    "    else:\n",
    "        impuesto = 0.3 * income\n",
    "        print(\"if my income is S/\", str(income), \"my taxes are S/\", str(impuesto))"
   ]
  },
  {
   "cell_type": "markdown",
   "metadata": {},
   "source": [
    "## Transfer Statements"
   ]
  },
  {
   "cell_type": "markdown",
   "metadata": {},
   "source": [
    "Please, review this YouTube [video](https://www.youtube.com/watch?v=yCZBnjF4_tU) and also this [one](https://www.youtube.com/watch?v=JCRpVwtVL4I) for more info"
   ]
  },
  {
   "cell_type": "markdown",
   "metadata": {},
   "source": [
    "|Function|Description|\n",
    "|---|---|\n",
    "| `Break`| The loop will exit|\n",
    "| `Continue`| The current iteration of the loop will be disrupted, <br> but the program will return to the top of the loop|\n",
    "| `Pass`| Allows you to handle the condition <br> without the loop being impacted in any way|\n",
    "| `Try`| This command lets you test a block of code for errors.|\n",
    "| `Exception`| An exception is an event, which occurs during <br> the execution of a program that disrupts the normal <br> flow of the program's instructions. <br> It allows you to raise a message to help the user.|"
   ]
  },
  {
   "cell_type": "markdown",
   "metadata": {},
   "source": [
    "### Break"
   ]
  },
  {
   "cell_type": "markdown",
   "metadata": {},
   "source": [
    "Termina el bucle (for/while) antes de que complete todas las iteraciones."
   ]
  },
  {
   "cell_type": "code",
   "execution_count": null,
   "metadata": {},
   "outputs": [],
   "source": [
    "for i in range(5):\n",
    "    if i == 3:\n",
    "        print(f\"Número {i} encontrado!\")\n",
    "        break  # Sale del bucle\n",
    "    print(i)"
   ]
  },
  {
   "cell_type": "markdown",
   "metadata": {},
   "source": [
    "El bucle for itera desde 0 hasta 4. Sin embargo, cuando i es igual a 3, la sentencia break se ejecuta, y el bucle se interrumpe inmediatamente, sin ejecutar el resto de iteraciones.\n"
   ]
  },
  {
   "cell_type": "markdown",
   "metadata": {},
   "source": [
    "### Continue"
   ]
  },
  {
   "cell_type": "markdown",
   "metadata": {},
   "source": [
    " Omite la iteración actual de un bucle y continúa con la siguiente iteración."
   ]
  },
  {
   "cell_type": "code",
   "execution_count": null,
   "metadata": {},
   "outputs": [],
   "source": [
    "for i in range(5):\n",
    "    if i == 2:\n",
    "        continue  # Salta esta iteración\n",
    "    print(i)"
   ]
  },
  {
   "cell_type": "code",
   "execution_count": null,
   "metadata": {},
   "outputs": [],
   "source": [
    "for i in range(21):\n",
    "    if i % 2 == 0:\n",
    "        continue\n",
    "    print(i)"
   ]
  },
  {
   "cell_type": "markdown",
   "metadata": {},
   "source": [
    "### Pass"
   ]
  },
  {
   "cell_type": "markdown",
   "metadata": {},
   "source": [
    "Se usa como un marcador de posición cuando aún no quieres implementar algo."
   ]
  },
  {
   "cell_type": "code",
   "execution_count": null,
   "metadata": {},
   "outputs": [],
   "source": [
    "for i in range(5):\n",
    "    if i == 3:\n",
    "        pass  # No hace nada, pero evita un error de sintaxis\n",
    "    print(i)"
   ]
  },
  {
   "cell_type": "markdown",
   "metadata": {},
   "source": [
    "En este ejemplo, la sentencia pass se utiliza como un marcador de posición dentro del bucle for. No se ejecuta ninguna acción dentro del bucle, pero la sintaxis es válida gracias a la sentencia pass.\n"
   ]
  },
  {
   "cell_type": "markdown",
   "metadata": {},
   "source": [
    "### 4.3.4. <a id = '4.3.4.'> Try </a>\n",
    "\n",
    "|Function|Description|\n",
    "|---|---|\n",
    "|`except`| Run a code if an error occurs.|\n",
    "|`else`| The code will be executed whether there is no error.|"
   ]
  },
  {
   "cell_type": "code",
   "execution_count": null,
   "metadata": {},
   "outputs": [],
   "source": [
    "input(\"Ingresa un número: \")"
   ]
  },
  {
   "cell_type": "code",
   "execution_count": null,
   "metadata": {},
   "outputs": [],
   "source": [
    "try:\n",
    "    # Solicita al usuario un número\n",
    "    numero = int(input(\"Ingresa un número: \"))\n",
    "    resultado = 10 / numero  # Intenta dividir 10 entre el número ingresado\n",
    "except ZeroDivisionError:  \n",
    "    # Captura el error si el usuario intenta dividir entre 0\n",
    "    print(\"Error: No se puede dividir entre cero.\")\n",
    "except ValueError:\n",
    "    # Captura el error si el usuario ingresa un valor no numérico\n",
    "    print(\"Error: Entrada no válida. Por favor ingresa un número.\")\n",
    "else:\n",
    "    # Si no ocurre ningún error, este bloque se ejecuta\n",
    "    print(f\"El resultado de la división es: {resultado}\")"
   ]
  },
  {
   "cell_type": "markdown",
   "metadata": {},
   "source": [
    "## Iterative Statements (II)"
   ]
  },
  {
   "cell_type": "markdown",
   "metadata": {},
   "source": [
    "### While loop\n",
    "\n",
    "A for loop is used for **iterating** over a sequence. It executes a code a definite number of times.\n",
    "While loop is used to repeat code as long as the condition is true. When the logical expression is false, the code will finish executing. [More Info](https://python101.pythonlibrary.org/chapter5_loops.html)"
   ]
  },
  {
   "cell_type": "markdown",
   "metadata": {},
   "source": [
    "<img src=\"https://media.geeksforgeeks.org/wp-content/uploads/20191101170515/while-loop.jpg\" width=\"500\">\n",
    "\n",
    "\n",
    "while <font color='green'>condition</font>: <br>\n",
    "&nbsp;&nbsp;&nbsp;&nbsp;&nbsp;&nbsp;code 1<br><br>\n",
    "&nbsp;&nbsp;&nbsp;&nbsp;&nbsp;&nbsp;<font color='red'>break code</font><br><br>\n",
    "\n",
    "The break code is an expression that allows the logical condition to be false at some point, because if not, the code will continue to execute infinitely."
   ]
  },
  {
   "cell_type": "code",
   "execution_count": null,
   "metadata": {},
   "outputs": [],
   "source": [
    "i = 1\n",
    "i"
   ]
  },
  {
   "cell_type": "code",
   "execution_count": null,
   "metadata": {},
   "outputs": [],
   "source": [
    "i += 1\n",
    "i"
   ]
  },
  {
   "cell_type": "code",
   "execution_count": null,
   "metadata": {},
   "outputs": [],
   "source": [
    "i += 1\n",
    "i"
   ]
  },
  {
   "cell_type": "code",
   "execution_count": null,
   "metadata": {},
   "outputs": [],
   "source": [
    "i = 1\n",
    "\n",
    "while i<=10:\n",
    "    print(i)\n",
    "    \n",
    "    # breakcode\n",
    "    i += 1"
   ]
  },
  {
   "cell_type": "code",
   "execution_count": null,
   "metadata": {},
   "outputs": [],
   "source": [
    "i = 1\n",
    "\n",
    "while i <= 10:\n",
    "    print(i)\n",
    "    \n",
    "    # break code \n",
    "    i += 1\n",
    "    print(\"now i is \", i)"
   ]
  },
  {
   "cell_type": "markdown",
   "metadata": {},
   "source": [
    "#### Ejercicios"
   ]
  },
  {
   "cell_type": "markdown",
   "metadata": {},
   "source": [
    "**Básicos**\n",
    "- Imprime todos los elementos de una lista\n",
    "- Imprime $2^n$, mientras que el resultado sea menor que 10,000.\n",
    "- Un profesor tiene 100 manzanas. El primer estudiante toma 4 manzanas, el siguiente estudiante debe tomar siempre más manzanas que el anterior. ¿Cuántos niños tienen manzanas?"
   ]
  },
  {
   "cell_type": "markdown",
   "metadata": {},
   "source": [
    "**Intermedios**"
   ]
  },
  {
   "cell_type": "markdown",
   "metadata": {},
   "source": [
    "Juego de Adivinanza de Números**\n",
    "Objetivo: Crear un programa en Python que permita al usuario adivinar un número secreto generado aleatoriamente entre 1 y 100. El programa debe proporcionar retroalimentación sobre si el número ingresado es mayor o menor que el número secreto y limitar el número de intentos a 10.\n",
    "\n",
    "**Instrucciones:**\n",
    "\n",
    "- Generación del Número Secreto:\n",
    "\n",
    "  - El programa debe generar un número aleatorio entre 1 y 100 al inicio del juego.\n",
    "\n",
    "- Interacción con el Usuario:\n",
    "\n",
    " - El programa debe solicitar al usuario que ingrese un número entre 1 y 100.\n",
    " - Si el usuario ingresa un valor que no es un número, el programa debe mostrar un mensaje de error y solicitar nuevamente la entrada\n",
    " - Si el usuario ingresa un número fuera del rango permitido (1-100), el programa debe mostrar un mensaje de error y solicitar nuevamente la entrada.\n",
    "\n",
    "- Comparación y Retroalimentación:\n",
    "\n",
    "  - El programa debe comparar el número ingresado por el usuario con el número secreto.\n",
    "  - Si el número ingresado es igual al número secreto, el programa debe felicitar al usuario y mostrar el número de intentos realizados\n",
    "  - Si el número ingresado es menor que el número secreto, el programa debe informar al usuario que el número secreto es mayor.\n",
    "  - Si el número ingresado es mayor que el número secreto, el programa debe informar al usuario que el número secreto es menor.\n",
    "\n",
    "- Límite de Intentos:\n",
    "\n",
    "  - El usuario tiene un máximo de 10 intentos para adivinar el número secreto.\n",
    "  - Si el usuario no adivina el número secreto en 10 intentos, el programa debe mostrar un mensaje indicando que se ha superado el número máximo de intentos y revelar el número secreto.\n",
    "\n",
    "- Estructuras de Control:\n",
    "  - El programa debe utilizar las siguientes estructuras de control:\n",
    "for, if, elif, else, continue, break y operadores lógicos."
   ]
  }
 ],
 "metadata": {
  "hide_input": false,
  "kernelspec": {
   "display_name": "base",
   "language": "python",
   "name": "python3"
  },
  "language_info": {
   "codemirror_mode": {
    "name": "ipython",
    "version": 3
   },
   "file_extension": ".py",
   "mimetype": "text/x-python",
   "name": "python",
   "nbconvert_exporter": "python",
   "pygments_lexer": "ipython3",
   "version": "3.11.7"
  },
  "toc": {
   "base_numbering": 1,
   "nav_menu": {},
   "number_sections": true,
   "sideBar": true,
   "skip_h1_title": false,
   "title_cell": "Table of Contents",
   "title_sidebar": "Contents",
   "toc_cell": false,
   "toc_position": {},
   "toc_section_display": true,
   "toc_window_display": false
  }
 },
 "nbformat": 4,
 "nbformat_minor": 4
}
